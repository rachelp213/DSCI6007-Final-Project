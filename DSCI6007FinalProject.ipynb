{
 "cells": [
  {
   "cell_type": "markdown",
   "id": "b99fd75c",
   "metadata": {},
   "source": [
    "# DSCI 6007 Final Project\n",
    "### Project: Netflix Recommendation System \n",
    "\n",
    "The purpose of this project was to create a movie recommendation system using Netflix data. Then, using the system created, predict movie ratings for 100,000 movies for users in a subset of the original Netflix data. \n",
    "\n",
    "The steps taken in this project: \n",
    "1. Analyze the Netflix data using Spark\n",
    "2. Based on the outcomes of this analysis, develop a feasible and efficent implementation of the collabortive filtering algorithm in Spark. \n",
    "3. Execute the program on Amazon EMR to get the rating predictions and evaluate those ratings by comparing them to the provided true ratings. \n"
   ]
  },
  {
   "cell_type": "code",
   "execution_count": 1,
   "id": "95d10db3",
   "metadata": {},
   "outputs": [],
   "source": [
    "import os\n",
    "# from test_helper import Test\n",
    "\n",
    "# Change to the location of data files\n",
    "dbfs_dir = 's3://dsci6007finalproject'\n",
    "ratings_filename = dbfs_dir + '/TrainingRatings.txt'\n",
    "movies_filename = dbfs_dir + '/movie_titles.txt'\n"
   ]
  },
  {
   "cell_type": "code",
   "execution_count": 2,
   "id": "d71ab946",
   "metadata": {},
   "outputs": [],
   "source": [
    "#setting the schemas for the data we will be reading in \n",
    "from pyspark.sql.types import *\n",
    "\n",
    "training_ratings_df_schema = StructType(\n",
    "  [StructField('MovieId', IntegerType()),\n",
    "   StructField('CustomerId', IntegerType()),\n",
    "   StructField('Rating', DoubleType())]\n",
    ")\n",
    "\n",
    "movies_df_schema = StructType(\n",
    "  [StructField('ID', IntegerType()),\n",
    "   StructField('release_year', IntegerType()),\n",
    "   StructField('title', StringType())]\n",
    ")\n",
    "\n",
    "test_ratings_df_schema = StructType(\n",
    "  [StructField('MovieId', IntegerType()),\n",
    "   StructField('CustomerId', IntegerType()),\n",
    "   StructField('Rating', DoubleType())]\n",
    ")"
   ]
  },
  {
   "cell_type": "code",
   "execution_count": 3,
   "id": "2bd3faf5",
   "metadata": {},
   "outputs": [
    {
     "name": "stderr",
     "output_type": "stream",
     "text": [
      "[Stage 0:>                                                          (0 + 1) / 1]"
     ]
    },
    {
     "name": "stdout",
     "output_type": "stream",
     "text": [
      "+-------+----------+------+\n",
      "|MovieId|CustomerId|Rating|\n",
      "+-------+----------+------+\n",
      "|      8|   1395430|   2.0|\n",
      "|      8|   1205593|   4.0|\n",
      "|      8|   1488844|   4.0|\n",
      "|      8|   1447354|   1.0|\n",
      "|      8|    306466|   4.0|\n",
      "|      8|   1331154|   4.0|\n",
      "|      8|   1818178|   3.0|\n",
      "|      8|    991725|   4.0|\n",
      "|      8|   1987434|   4.0|\n",
      "|      8|   1765381|   4.0|\n",
      "|      8|    433803|   3.0|\n",
      "|      8|   1148143|   2.0|\n",
      "|      8|   1174811|   5.0|\n",
      "|      8|   1684516|   3.0|\n",
      "|      8|    754781|   4.0|\n",
      "|      8|    567025|   4.0|\n",
      "|      8|   1623132|   4.0|\n",
      "|      8|   1567095|   3.0|\n",
      "|      8|   1666394|   5.0|\n",
      "|      8|    622194|   4.0|\n",
      "+-------+----------+------+\n",
      "only showing top 20 rows\n",
      "\n"
     ]
    },
    {
     "name": "stderr",
     "output_type": "stream",
     "text": [
      "                                                                                \r"
     ]
    }
   ],
   "source": [
    "#loading in the ratings (training) data\n",
    "ratings_df = sqlContext.read.format('csv').options(header=True, inferSchema=False).schema(training_ratings_df_schema).csv(ratings_filename)\n",
    "ratings_df.show()"
   ]
  },
  {
   "cell_type": "code",
   "execution_count": 4,
   "id": "85b130fd",
   "metadata": {},
   "outputs": [
    {
     "name": "stdout",
     "output_type": "stream",
     "text": [
      "+---+------------+--------------------+\n",
      "| ID|release_year|               title|\n",
      "+---+------------+--------------------+\n",
      "|  2|        2004|Isle of Man TT 20...|\n",
      "|  3|        1997|           Character|\n",
      "|  4|        1994|Paula Abdul's Get...|\n",
      "|  5|        2004|The Rise and Fall...|\n",
      "|  6|        1997|                Sick|\n",
      "+---+------------+--------------------+\n",
      "only showing top 5 rows\n",
      "\n"
     ]
    }
   ],
   "source": [
    "#loading in the movies dataframe\n",
    "movies_df = sqlContext.read.format('csv').options(header=True, inferSchema=False).schema(movies_df_schema).csv(movies_filename)\n",
    "movies_df.show(5)"
   ]
  },
  {
   "cell_type": "code",
   "execution_count": 5,
   "id": "e5b0ab80",
   "metadata": {},
   "outputs": [
    {
     "name": "stderr",
     "output_type": "stream",
     "text": [
      "                                                                                \r"
     ]
    },
    {
     "name": "stdout",
     "output_type": "stream",
     "text": [
      "There are 3255351 ratings in the ratings dataframe.\n",
      "There are 17769 ratings in the movies dataframe.\n"
     ]
    }
   ],
   "source": [
    "#how much data are we working with\n",
    "ratings_count = ratings_df.count()\n",
    "print('There are {} ratings in the ratings dataframe.'.format(ratings_count))\n",
    "movies_count = movies_df.count()\n",
    "print('There are {} ratings in the movies dataframe.'.format(movies_count))"
   ]
  },
  {
   "cell_type": "markdown",
   "id": "b45f2ce5",
   "metadata": {},
   "source": [
    "## Basic Recommendations"
   ]
  },
  {
   "cell_type": "markdown",
   "id": "fc2d6195",
   "metadata": {},
   "source": [
    "One simple method of recommendation is to just recommend the top-rated movies. To do this we will combine and average all of the user ratings for movies and sort them from greatest to least. "
   ]
  },
  {
   "cell_type": "code",
   "execution_count": 6,
   "id": "576ab802",
   "metadata": {},
   "outputs": [
    {
     "name": "stdout",
     "output_type": "stream",
     "text": [
      "movie_ids_with_avg_ratings_df:\n"
     ]
    },
    {
     "name": "stderr",
     "output_type": "stream",
     "text": [
      "[Stage 8:============================================>              (3 + 1) / 4]21/12/15 19:36:28 WARN Utils: Truncated the string representation of a plan since it was too large. This behavior can be adjusted by setting 'spark.debug.maxToStringFields' in SparkEnv.conf.\n"
     ]
    },
    {
     "name": "stdout",
     "output_type": "stream",
     "text": [
      "+-------+-----+------------------+\n",
      "|movieId|count|average           |\n",
      "+-------+-----+------------------+\n",
      "|2366   |1643 |3.036518563603165 |\n",
      "|4190   |37   |3.054054054054054 |\n",
      "|3220   |1417 |2.9273112208892025|\n",
      "+-------+-----+------------------+\n",
      "only showing top 3 rows\n",
      "\n"
     ]
    },
    {
     "name": "stderr",
     "output_type": "stream",
     "text": [
      "                                                                                \r"
     ]
    }
   ],
   "source": [
    "from pyspark.sql import functions as F\n",
    "\n",
    "# From ratingsDF, create a movie_ids_with_avg_ratings_df that combines the two DataFrames\n",
    "movie_ids_with_avg_ratings_df = ratings_df.groupBy('movieId').agg(F.count(ratings_df.Rating).alias(\"count\"), F.avg(ratings_df.Rating).alias(\"average\"))\n",
    "print('movie_ids_with_avg_ratings_df:')\n",
    "movie_ids_with_avg_ratings_df.show(3, truncate=False)\n",
    "\n",
    "# # Note: movie_names_df is a temporary variable, used only to separate the steps necessary\n",
    "# # to create the movie_names_with_avg_ratings_df DataFrame.\n",
    "# movie_names_df = movie_ids_with_avg_ratings_df.<FILL_IN>\n",
    "# movie_names_with_avg_ratings_df = movie_names_df.<FILL_IN>\n",
    "\n",
    "# print 'movie_names_with_avg_ratings_df:'\n",
    "# movie_names_with_avg_ratings_df.show(3, truncate=False)"
   ]
  },
  {
   "cell_type": "code",
   "execution_count": 7,
   "id": "ba176f94",
   "metadata": {},
   "outputs": [
    {
     "name": "stderr",
     "output_type": "stream",
     "text": [
      "[Stage 12:===========================================>              (3 + 1) / 4]"
     ]
    },
    {
     "name": "stdout",
     "output_type": "stream",
     "text": [
      "+-------+-----------------+------------------------------------------------+-----+\n",
      "|movieId|average          |title                                           |count|\n",
      "+-------+-----------------+------------------------------------------------+-----+\n",
      "|3033   |4.5              |Ghost in the Shell: Stand Alone Complex: 2nd Gig|62   |\n",
      "|12293  |4.464598134454594|The Godfather                                   |20691|\n",
      "|16147  |4.422818791946309|The Sopranos: Season 1                          |10430|\n",
      "|14283  |4.418618618618619|The Best of Friends: Vol. 3                     |3330 |\n",
      "|1256   |4.414830736163353|The Best of Friends: Vol. 4                     |3722 |\n",
      "+-------+-----------------+------------------------------------------------+-----+\n",
      "only showing top 5 rows\n",
      "\n"
     ]
    },
    {
     "name": "stderr",
     "output_type": "stream",
     "text": [
      "                                                                                \r"
     ]
    }
   ],
   "source": [
    "#adding in the titles of the movies \n",
    "movie_names_with_avg_rating_df = movie_ids_with_avg_ratings_df.join(movies_df, movie_ids_with_avg_ratings_df.movieId == movies_df.ID).select(\"movieId\",\"average\",\"title\", \"count\").sort(F.col(\"average\").desc())\n",
    "movie_names_with_avg_rating_df.show(5, truncate=False)\n"
   ]
  },
  {
   "cell_type": "markdown",
   "id": "7969dd64",
   "metadata": {},
   "source": [
    "## Movies with Highest Ratings and at least 500 Reviews: \n",
    "\n"
   ]
  },
  {
   "cell_type": "code",
   "execution_count": 118,
   "id": "1f3a988c",
   "metadata": {},
   "outputs": [
    {
     "name": "stdout",
     "output_type": "stream",
     "text": [
      "Movies with highest ratings:\n"
     ]
    },
    {
     "name": "stderr",
     "output_type": "stream",
     "text": [
      "                                                                                \r"
     ]
    },
    {
     "name": "stdout",
     "output_type": "stream",
     "text": [
      "+-------+------------------+------------------------------------------------------------------------+-----+\n",
      "|movieId|average           |title                                                                   |count|\n",
      "+-------+------------------+------------------------------------------------------------------------+-----+\n",
      "|12293  |4.464598134454594 |The Godfather                                                           |20691|\n",
      "|16147  |4.422818791946309 |The Sopranos: Season 1                                                  |10430|\n",
      "|14283  |4.418618618618619 |The Best of Friends: Vol. 3                                             |3330 |\n",
      "|1256   |4.414830736163353 |The Best of Friends: Vol. 4                                             |3722 |\n",
      "|5760   |4.410690051153565 |The Sopranos: Season 3                                                  |9579 |\n",
      "|7569   |4.38388625592417  |Dead Like Me: Season 2                                                  |1477 |\n",
      "|14648  |4.35288414929714  |Finding Nemo (Full-screen)                                              |2063 |\n",
      "|3290   |4.339868147120056 |The Godfather                                                           |17292|\n",
      "|10947  |4.339148474704135 |The Incredibles                                                         |21209|\n",
      "|10080  |4.318296583066823 |Six Feet Under: Season 2                                                |5941 |\n",
      "|17085  |4.283419689119171 |24: Season 2                                                            |5790 |\n",
      "|3928   |4.234884732492388 |Nip/Tuck: Season 2                                                      |2299 |\n",
      "|4207   |4.234758013827781 |The Blues Brothers: Extended Cut                                        |3182 |\n",
      "|12184  |4.230476707863643 |Sex and the City: Season 5                                              |7363 |\n",
      "|15557  |4.218554861730597 |Futurama: Vol. 3                                                        |3363 |\n",
      "|7445   |4.198757763975156 |Monk: Season 3                                                          |1771 |\n",
      "|634    |4.195422535211268 |Christmas with The Simpsons                                             |568  |\n",
      "|15836  |4.188855806039983 |MASH: Season 8                                                          |2351 |\n",
      "|5326   |4.188522392062215 |Star Trek: The Next Generation: Season 4                                |3729 |\n",
      "|2290   |4.188294241522039 |Aladdin: Platinum Edition                                               |13771|\n",
      "|5700   |4.181549087321164 |Law & Order: Season 14                                                  |2027 |\n",
      "|577    |4.179767103347889 |The Twilight Zone: Vol. 36                                              |1374 |\n",
      "|15183  |4.158355998791175 |MASH: Season 4                                                          |3309 |\n",
      "|11812  |4.14954262229882  |Million Dollar Baby                                                     |15086|\n",
      "|12125  |4.138193688792166 |The Blue Planet: Seas of Life: Open Ocean - The Deep                    |919  |\n",
      "|2430   |4.112863327149041 |Alien: Collector's Edition                                              |16170|\n",
      "|8596   |4.103368832862421 |Seven                                                                   |23005|\n",
      "|12100  |4.096069868995633 |Prime Suspect 2                                                         |916  |\n",
      "|359    |4.079979360165119 |Absolutely Fabulous: Series 5                                           |1938 |\n",
      "|6971   |4.071815611748076 |Ferris Bueller's Day Off                                                |25468|\n",
      "|9528   |4.070948697068404 |12 Angry Men                                                            |9824 |\n",
      "|16022  |4.070422535211268 |Battlestar Galactica: The Miniseries                                    |2272 |\n",
      "|14185  |4.066029318036966 |Mary Poppins                                                            |15690|\n",
      "|2861   |4.051787016776076 |Babylon 5: Season 4                                                     |1371 |\n",
      "|4640   |4.047438894792774 |Rain Man                                                                |23525|\n",
      "|722    |4.040431266846361 |The Wire: Season 1                                                      |1484 |\n",
      "|712    |4.036053130929791 |Homicide: Life on the Street: Season 7                                  |527  |\n",
      "|6756   |4.0359281437125745|Absolutely Fabulous: Series 1                                           |2672 |\n",
      "|13835  |4.025768087215065 |Batman the Animated Series: Vol. 2                                      |1009 |\n",
      "|11236  |4.023008849557522 |Quantum Leap: Season 2                                                  |2260 |\n",
      "|14320  |4.01758182309981  |MASH: Season 2                                                          |3697 |\n",
      "|4468   |4.0124031007751935|Frasier: Season 6                                                       |645  |\n",
      "|907    |4.012064343163539 |Animal Crackers                                                         |2238 |\n",
      "|2913   |4.00181334622824  |Finding Neverland                                                       |16544|\n",
      "|11088  |3.996415770609319 |Adventures of Batman & Robin: The Joker/Fire & Ice                      |558  |\n",
      "|7147   |3.9944444444444445|MacGyver: Season 3                                                      |540  |\n",
      "|7577   |3.9929453262786594|Horatio Hornblower: The New Adventures                                  |1134 |\n",
      "|4847   |3.991390388075045 |Glory                                                                   |15564|\n",
      "|11391  |3.98937784522003  |The Work of Director Michel Gondry                                      |659  |\n",
      "|14086  |3.9724182168056448|Dawson's Creek: Season 3                                                |1559 |\n",
      "|7903   |3.966386554621849 |Adventures of Batman & Robin: Poison Ivy/The Penguin                    |595  |\n",
      "|8915   |3.9663373050469826|Terminator 2: Extreme Edition                                           |20646|\n",
      "|17536  |3.9655396618985694|Northern Exposure: Season 2                                             |1538 |\n",
      "|2532   |3.965050240279598 |Futurama: Vol. 1                                                        |4578 |\n",
      "|12298  |3.961366181410974 |The Twilight Zone: Vol. 5                                               |1786 |\n",
      "|3742   |3.959992486851991 |Notorious                                                               |5324 |\n",
      "|13614  |3.9590494926485813|Office Space                                                            |19316|\n",
      "|8678   |3.9576746557878635|Charmed: Season 1                                                       |1961 |\n",
      "|15568  |3.951101321585903 |Cheers: Season 3                                                        |2270 |\n",
      "|14198  |3.950100163904571 |Trainspotting: Collector's Edition                                      |10982|\n",
      "|16349  |3.949662369551872 |Mr. Show: Season 3                                                      |1629 |\n",
      "|10757  |3.9479015918958034|Justice League Unlimited: Saving the World                              |691  |\n",
      "|14496  |3.9472843450479234|Mystery Science Theater 3000: Attack of the Giant Leeches               |626  |\n",
      "|5577   |3.9471830985915495|Throne of Blood                                                         |1704 |\n",
      "|3269   |3.944621938232162 |The Longest Day                                                         |4695 |\n",
      "|6085   |3.9394381612550164|M                                                                       |2741 |\n",
      "|395    |3.9365404298874105|Captain Blood                                                           |977  |\n",
      "|2601   |3.9329237071172556|Best of The Muppet Show: Peter Sellers / John Cleese / Dudley Moore     |1953 |\n",
      "|9689   |3.9307722157547538|The Exorcist: Restored Version                                          |12885|\n",
      "|4405   |3.930538172715895 |In Living Color: Season 3                                               |1598 |\n",
      "|13636  |3.927036333412491 |Fast Times at Ridgemont High                                            |16844|\n",
      "|2660   |3.9168362030466928|When Harry Met Sally                                                    |20153|\n",
      "|8072   |3.912310286677909 |Seven: Bonus Material                                                   |593  |\n",
      "|7516   |3.911764705882353 |Hidden Fortress                                                         |1700 |\n",
      "|10321  |3.909952606635071 |Upstairs                                                                |633  |\n",
      "|15475  |3.9094693028095735|The Ox-Bow Incident                                                     |961  |\n",
      "|417    |3.90920245398773  |Transformers: Season 3: Part 1                                          |815  |\n",
      "|13015  |3.9056056701030926|The Lost Boys: Special Edition                                          |15520|\n",
      "|8654   |3.904315196998124 |Sherlock Holmes: The Hound of the Baskervilles                          |533  |\n",
      "|15662  |3.8972388955582233|The Killing Fields                                                      |8330 |\n",
      "|13964  |3.893343713507201 |Desk Set                                                                |2569 |\n",
      "|10686  |3.8793478260869567|The Twilight Zone: Vol. 23                                              |1840 |\n",
      "|5369   |3.873015873015873 |Sanford and Son: Season 3                                               |756  |\n",
      "|10662  |3.86981493299298  |Akira                                                                   |4701 |\n",
      "|9946   |3.8617092119866814|Saturday Night Live: The Best of Will Ferrell                           |4505 |\n",
      "|10255  |3.8592332455370206|An Affair to Remember                                                   |6834 |\n",
      "|642    |3.849246231155779 |Mystery Science Theater 3000: The Hellcats                              |597  |\n",
      "|442    |3.8474443245364465|Mississippi Burning                                                     |10193|\n",
      "|851    |3.8436383928571427|Back to the Future Part III                                             |8960 |\n",
      "|1488   |3.842528735632184 |King of the Hill: Season 4                                              |870  |\n",
      "|10774  |3.8407185628742515|Taxi Driver                                                             |15865|\n",
      "|5945   |3.8392857142857144|Home Movies: Season 1                                                   |616  |\n",
      "|992    |3.8381795195954487|The Cowboys                                                             |3164 |\n",
      "|17324  |3.8375307125307123|Hitch                                                                   |16280|\n",
      "|3147   |3.835920177383592 |The Twilight Zone: Vol. 25                                              |2255 |\n",
      "|11237  |3.830655129789864 |Hercules: The Legendary Journeys: Season 3                              |809  |\n",
      "|7812   |3.8303501945525293|Freaks                                                                  |1285 |\n",
      "|443    |3.8289634146341465|Rabbit-Proof Fence                                                      |6560 |\n",
      "|13927  |3.825652594263616 |Door to Door                                                            |3103 |\n",
      "|8677   |3.825262444971216 |The Apartment                                                           |5906 |\n",
      "|9728   |3.8246204278812974|As Good as It Gets                                                      |23184|\n",
      "|5025   |3.817569667460893 |Mask: Director's Cut                                                    |9653 |\n",
      "|8526   |3.813965517241379 |The Guns of Navarone                                                    |5800 |\n",
      "|4049   |3.8132559264634738|Torch Song Trilogy                                                      |2067 |\n",
      "|2503   |3.8124031007751937|Mystery Science Theater 3000: Red Zone Cuba                             |645  |\n",
      "|9567   |3.8111702127659575|Mystery Science Theater 3000: Overdrawn at the Memory Bank              |752  |\n",
      "|8107   |3.8090874379534174|Predator: Collector's Edition                                           |15714|\n",
      "|10851  |3.8067680235409513|Red River                                                               |2039 |\n",
      "|1744   |3.802730883813307 |Beverly Hills Cop                                                       |20140|\n",
      "|6408   |3.8013020096235492|Good Morning                                                            |21198|\n",
      "|15276  |3.7971014492753623|The Land Before Time X: The Great Longneck Migration                    |966  |\n",
      "|10734  |3.7929889298892987|The Last Emperor                                                        |10840|\n",
      "|2342   |3.790550018456995 |Super Size Me                                                           |13545|\n",
      "|6093   |3.7887563884156727|House of Cards Trilogy III: The Final Cut                               |587  |\n",
      "|3285   |3.7851251627839675|Flight of the Navigator                                                 |6911 |\n",
      "|11292  |3.780907668231612 |Little Women                                                            |2556 |\n",
      "|13107  |3.780475467880627 |Touch of Evil                                                           |3954 |\n",
      "|16311  |3.779868297271872 |Scooby-Doo's Greatest Mysteries                                         |1063 |\n",
      "|6424   |3.7796373779637378|As Time Goes By: Series 3                                               |717  |\n",
      "|16784  |3.779324055666004 |The Sisterhood of the Traveling Pants                                   |3521 |\n",
      "|3733   |3.7782738095238093|Spencer's Mountain                                                      |1344 |\n",
      "|2212   |3.775934253372616 |The Secret Garden                                                       |6449 |\n",
      "|11965  |3.7746870653685676|Madea's Family Reunion (Stage Play)                                     |719  |\n",
      "|14272  |3.7713139418254764|The Dukes of Hazzard: Season 2                                          |997  |\n",
      "|17174  |3.766271289537713 |Maria Full of Grace                                                     |6576 |\n",
      "|9337   |3.761904761904762 |Three's Company: Season 4                                               |714  |\n",
      "|28     |3.760127409343352 |Lilo and Stitch                                                         |12244|\n",
      "|1202   |3.757298661713578 |National Lampoon's Vacation                                             |20997|\n",
      "|14372  |3.7540192926045015|Brief Encounter                                                         |622  |\n",
      "|14216  |3.7513966480446927|Children of Heaven                                                      |1432 |\n",
      "|5294   |3.7491103202846974|Tom and Jerry: Whiskers Away!                                           |562  |\n",
      "|518    |3.748523206751055 |The Prime of Miss Jean Brodie                                           |1185 |\n",
      "|12246  |3.7480869670836876|Rebel Without a Cause: Special Edition                                  |8233 |\n",
      "|3232   |3.744930629669157 |The Enforcer                                                            |4685 |\n",
      "|2043   |3.7434338521400776|Shane                                                                   |4112 |\n",
      "|11688  |3.734351145038168 |Heaven Knows                                                            |1310 |\n",
      "|1123   |3.729452756712441 |Dragon: The Bruce Lee Story                                             |4879 |\n",
      "|11888  |3.7279547249276126|In the Line of Fire                                                     |15196|\n",
      "|14904  |3.7278617710583153|Rivers and Tides                                                        |926  |\n",
      "|16731  |3.727130570758405 |Moonlighting: Seasons 1 & 2                                             |1279 |\n",
      "|3541   |3.726266643610583 |History of the World: Part 1                                            |11566|\n",
      "|6287   |3.7261099495756977|Pretty Woman                                                            |24393|\n",
      "|16150  |3.7221119028150915|Shine                                                                   |8561 |\n",
      "|5963   |3.716227018385292 |The Gold Rush                                                           |2502 |\n",
      "|17411  |3.715162138475022 |How to Marry a Millionaire                                              |3423 |\n",
      "|2808   |3.7151162790697674|Gidget                                                                  |688  |\n",
      "|3685   |3.7147117296222665|Scooby-Doo's Spookiest Tales                                            |1006 |\n",
      "|12280  |3.712776626328809 |The Jerk                                                                |14957|\n",
      "|12824  |3.7045454545454546|4 Little Girls                                                          |968  |\n",
      "|10561  |3.7029737206085755|Ice Princess                                                            |2892 |\n",
      "|14096  |3.702470461868958 |Step Into Liquid                                                        |1862 |\n",
      "|4496   |3.699913018266164 |Farewell My Concubine                                                   |3449 |\n",
      "|9805   |3.699578848853533 |The Absent-Minded Professor                                             |4274 |\n",
      "|8354   |3.6981818181818182|Da Ali G Show: Season 1                                                 |1925 |\n",
      "|2955   |3.696562032884903 |The Commitments                                                         |6021 |\n",
      "|7638   |3.6965174129353233|Saturday Night Live: The Best of Tom Hanks                              |603  |\n",
      "|15464  |3.6959208899876392|Further Tales of the City                                               |809  |\n",
      "|13186  |3.695804195804196 |Neon Genesis Evangelion: Death and Rebirth                              |572  |\n",
      "|1615   |3.6921797927173974|The American President                                                  |18043|\n",
      "|3170   |3.687263556116015 |Together                                                                |793  |\n",
      "|14716  |3.683771815576973 |Pillow Talk                                                             |3839 |\n",
      "|13561  |3.68349358974359  |Monsieur Ibrahim                                                        |1248 |\n",
      "|16986  |3.682926829268293 |Oliver Twist                                                            |1353 |\n",
      "|9028   |3.682730923694779 |Jersey Girl                                                             |1494 |\n",
      "|10428  |3.682526456128656 |Splash: 20th Anniversary Edition                                        |12001|\n",
      "|14506  |3.6805349182763742|Doctor Who: The Five Doctors                                            |673  |\n",
      "|12292  |3.677804944308612 |The Secret of Roan Inish                                                |3681 |\n",
      "|2954   |3.6763005780346822|My Favorite Year                                                        |2249 |\n",
      "|2755   |3.6750806338521946|The Longest Yard                                                        |7131 |\n",
      "|12875  |3.673435784851811 |Treasure Island                                                         |1822 |\n",
      "|4432   |3.6721471305118545|The Italian Job                                                         |22565|\n",
      "|2015   |3.6659991990388465|Talk to Her                                                             |4994 |\n",
      "|2418   |3.6657276995305166|Sink the Bismarck                                                       |1065 |\n",
      "|7763   |3.6629303442754204|La Cage aux Folles                                                      |2498 |\n",
      "|2130   |3.661899897854954 |Citizen X                                                               |979  |\n",
      "|5562   |3.661717804904872 |Ladyhawke                                                               |9093 |\n",
      "|9481   |3.6574109982160863|Deliverance                                                             |12893|\n",
      "|15716  |3.655357142857143 |Three's Company: Season 2                                               |1120 |\n",
      "|5699   |3.6486486486486487|Joshua                                                                  |925  |\n",
      "|1425   |3.6481524789522917|No Way Out                                                              |8552 |\n",
      "|2643   |3.647345942647956 |Carolina                                                                |1639 |\n",
      "|12639  |3.642885375494071 |An American in Paris                                                    |5060 |\n",
      "|8851   |3.6422032464035694|Rounders                                                                |12999|\n",
      "|12778  |3.638433003597122 |Thelma & Louise: Special Edition                                        |17792|\n",
      "|6190   |3.6371610845295055|Some Kind of Wonderful                                                  |8778 |\n",
      "|8017   |3.6369230769230767|The Munsters: Season 1                                                  |650  |\n",
      "|3107   |3.636141636141636 |Mulan                                                                   |819  |\n",
      "|11613  |3.632384596986367 |The Man with the Golden Gun                                             |8362 |\n",
      "|3301   |3.6323529411764706|Burnt by the Sun                                                        |816  |\n",
      "|14808  |3.6311053984575836|Viva La Bam: Seasons 2 and 3                                            |778  |\n",
      "|6281   |3.6296296296296298|The Adventures of Priscilla                                             |7938 |\n",
      "|14983  |3.6273374888691006|Camelot                                                                 |2246 |\n",
      "|17642  |3.62448132780083  |X-Men: Evolution: Season 1                                              |964  |\n",
      "|3955   |3.624064837905237 |The Horse Soldiers                                                      |1604 |\n",
      "|13270  |3.62120189061445  |Gigi                                                                    |2962 |\n",
      "|48     |3.6206482593037217|Justice League                                                          |1666 |\n",
      "|5970   |3.6198466956701885|Dead Again                                                              |4827 |\n",
      "|15378  |3.61984392419175  |Mystery Train                                                           |1794 |\n",
      "|5656   |3.61958885155169  |Star Trek IV: The Voyage Home                                           |10118|\n",
      "|16329  |3.613933236574746 |The Golden Voyage of Sinbad                                             |1378 |\n",
      "|2756   |3.6096153846153847|Tenchi Muyo                                                             |520  |\n",
      "|3590   |3.6094359702021994|Jason and the Argonauts                                                 |2819 |\n",
      "|16705  |3.6086036671368125|Fresh                                                                   |1418 |\n",
      "|7736   |3.606918238993711 |The Train                                                               |954  |\n",
      "|6228   |3.606761565836299 |Best of the Chris Rock Show: Vol. 2                                     |562  |\n",
      "|8825   |3.6058431573552023|Mad About You: Season 1                                                 |1951 |\n",
      "|6110   |3.603943661971831 |It's a Mad                                                              |5325 |\n",
      "|12627  |3.6031496062992128|Saturday Night Live: The Best of Jimmy Fallon                           |635  |\n",
      "|6220   |3.598173515981735 |The Color of Paradise                                                   |876  |\n",
      "|9482   |3.5980392156862746|Inspector Morse 23: The Death of the Self                               |510  |\n",
      "|16707  |3.5977620087336244|Old School                                                              |18320|\n",
      "|10747  |3.5975541967759868|Can't Buy Me Love                                                       |8995 |\n",
      "|7148   |3.5958188153310107|Doctor Who: The Ribos Operation                                         |574  |\n",
      "|13651  |3.5951105157401204|Air Force One                                                           |20902|\n",
      "|13934  |3.594519459888801 |A Place in the Sun                                                      |2518 |\n",
      "|14072  |3.59236276849642  |Dragonslayer                                                            |4190 |\n",
      "|6912   |3.5904907975460123|The Taking of Pelham One Two Three                                      |1956 |\n",
      "|16629  |3.58972602739726  |Easy Money                                                              |1460 |\n",
      "|13046  |3.5889655172413795|Mysterious Skin                                                         |725  |\n",
      "|4849   |3.5876728259465045|Taps                                                                    |7739 |\n",
      "|16670  |3.5874547647768398|Grand Hotel                                                             |829  |\n",
      "|13887  |3.5866243535496003|The Princess Diaries 2: Royal Engagement                                |8508 |\n",
      "|1848   |3.5862808145766345|Samurai Trilogy 3: Duel at Ganryu Island                                |933  |\n",
      "|13451  |3.5861652115513767|The Player                                                              |7445 |\n",
      "|4627   |3.5860717515827556|Little Women                                                            |3317 |\n",
      "|11651  |3.5860091743119265|Ferngully: The Last Rainforest                                          |4360 |\n",
      "|5727   |3.585219547308646 |The Last Starfighter                                                    |12503|\n",
      "|14248  |3.584205803170805 |D2: The Mighty Ducks                                                    |3343 |\n",
      "|14457  |3.58408659747796  |What's Love Got to Do with It                                           |8961 |\n",
      "|7511   |3.583491509772739 |Blade                                                                   |19493|\n",
      "|3903   |3.5834256183093394|PCU                                                                     |5418 |\n",
      "|14430  |3.5820056232427366|Black Widow                                                             |1067 |\n",
      "|14407  |3.578978273634762 |The Last Castle                                                         |10218|\n",
      "|14144  |3.5789333687990426|Suicide Kings                                                           |7519 |\n",
      "|2640   |3.5727775218793183|The Spanish Prisoner                                                    |4342 |\n",
      "|267    |3.5706521739130435|Touched by an Angel: Season 1                                           |552  |\n",
      "|361    |3.569340932339617 |The Phantom of the Opera: Special Edition                               |6843 |\n",
      "|5327   |3.5681331747919143|Guess Who                                                               |8410 |\n",
      "|5069   |3.5678762918641698|Sleeping With the Enemy                                                 |12869|\n",
      "|15507  |3.5660749506903353|State Fair                                                              |1014 |\n",
      "|15033  |3.5636042402826855|The Greatest Story Ever Told                                            |1698 |\n",
      "|13326  |3.5625246548323473|House of Games                                                          |2535 |\n",
      "|7973   |3.5572232645403377|The Sum of Us                                                           |1066 |\n",
      "|8699   |3.556094182825485 |Mermaids                                                                |2888 |\n",
      "|1901   |3.5550586364539853|Cheech & Chong's Up in Smoke                                            |10062|\n",
      "|3274   |3.554756974052869 |Half Baked                                                              |8209 |\n",
      "|12180  |3.5526315789473686|The Outer Limits: The Original Series: Season 2                         |532  |\n",
      "|14732  |3.5515625         |Butterfly                                                               |640  |\n",
      "|6541   |3.5490654205607477|The Andy Griffith Show: Vol 2: The Big House / A Wife for Andy          |856  |\n",
      "|10576  |3.54739652870494  |DiG!                                                                    |749  |\n",
      "|15496  |3.5465739821251243|Easy Rider                                                              |10070|\n",
      "|4005   |3.5455801104972378|Dr. Quinn                                                               |724  |\n",
      "|1832   |3.5441308793456034|Rosemary's Baby                                                         |12225|\n",
      "|12894  |3.544108313941189 |The Time Machine                                                        |4727 |\n",
      "|15841  |3.543450881612091 |Watership Down                                                          |1588 |\n",
      "|3740   |3.54304979253112  |Dracula                                                                 |3856 |\n",
      "|16286  |3.543026874115983 |Red Dragon                                                              |17675|\n",
      "|6872   |3.5423853211009173|Greenfingers                                                            |2725 |\n",
      "|16153  |3.5417024935511607|Big Eden                                                                |1163 |\n",
      "|4224   |3.54017094017094  |Wish Upon a Star                                                        |585  |\n",
      "|507    |3.540155440414508 |Nevada Smith                                                            |772  |\n",
      "|10903  |3.5400927766732937|Mystery Science Theater 3000: The Brain That Wouldn't Die               |1509 |\n",
      "|7145   |3.539093333333333 |Star Trek III: The Search for Spock                                     |9375 |\n",
      "|11307  |3.5355994487827287|The Barbarian Invasions                                                 |2177 |\n",
      "|5958   |3.5325355272999253|Noises Off!                                                             |1337 |\n",
      "|14643  |3.5323565323565322|3: The Dale Earnhardt Story                                             |819  |\n",
      "|9681   |3.5320041972717733|Heavenly Creatures                                                      |5718 |\n",
      "|1757   |3.530666666666667 |The Lord of the Rings                                                   |2625 |\n",
      "|15657  |3.529607250755287 |Dead Man                                                                |3310 |\n",
      "|14459  |3.5288442211055275|Uncle Buck                                                              |14925|\n",
      "|2168   |3.5273722627737225|Upright Citizens Brigade: Season 1                                      |548  |\n",
      "|17423  |3.5260416666666665|The Five People You Meet in Heaven                                      |1920 |\n",
      "|11638  |3.525891472868217 |Sliding Doors                                                           |9675 |\n",
      "|3538   |3.52490744950315  |Beaches                                                                 |15397|\n",
      "|12795  |3.52343059239611  |Salvador                                                                |2262 |\n",
      "|11182  |3.5233019070066423|Master and Commander: The Far Side of the World                         |18668|\n",
      "|7406   |3.522300958732805 |Thirteen Days                                                           |7197 |\n",
      "|14209  |3.5221171233829462|Pitch Black                                                             |14378|\n",
      "|16733  |3.5217391304347827|Mona Lisa                                                               |1242 |\n",
      "|11884  |3.52157943067034  |Scooby-Doo Meets the Harlem Globetrotters                               |1089 |\n",
      "|16889  |3.521553563807085 |Take the Money and Run                                                  |2343 |\n",
      "|6177   |3.5195835399107587|The Boy Who Could Fly                                                   |2017 |\n",
      "|12623  |3.518361581920904 |The Way Home                                                            |708  |\n",
      "|2905   |3.5179972311952006|Croupier                                                                |4334 |\n",
      "|13477  |3.5173342308986872|Stephen King's The Shining                                              |2971 |\n",
      "|5206   |3.516304347826087 |Daria: Is it College Yet?                                               |736  |\n",
      "|3054   |3.515057915057915 |I'm Not Scared                                                          |1295 |\n",
      "|5149   |3.5124877571008817|The Great Mouse Detective                                               |4084 |\n",
      "|15257  |3.5117595818815333|Lost Highway                                                            |2296 |\n",
      "|12482  |3.511627906976744 |Scooby-Doo and the Witch's Ghost                                        |1333 |\n",
      "|3165   |3.510105938109841 |Dirty Rotten Scoundrels                                                 |14348|\n",
      "|10284  |3.505281690140845 |Doctor Who: The Power of Kroll                                          |568  |\n",
      "|11851  |3.503008423586041 |The Yearling                                                            |1662 |\n",
      "|305    |3.502688172043011 |Jack                                                                    |6324 |\n",
      "|16082  |3.5021158263813326|13 Going on 30                                                          |16542|\n",
      "|9310   |3.499784203711696 |The Candidate                                                           |2317 |\n",
      "|3355   |3.4975462438656097|The Ice Storm                                                           |7947 |\n",
      "|11295  |3.4953271028037385|Perfect Blue                                                            |749  |\n",
      "|6666   |3.4942886812045693|The Frighteners                                                         |3852 |\n",
      "|1367   |3.493752002563281 |The Piano                                                               |9363 |\n",
      "|8039   |3.4905335628227196|Saturday Night Live: 25 Years of Music                                  |1162 |\n",
      "|725    |3.4896142433234423|Woman Thou Art Loosed                                                   |1011 |\n",
      "|8428   |3.4861720389090216|The Original Kings of Comedy                                            |5243 |\n",
      "|15816  |3.4861683343143026|Ronin                                                                   |10194|\n",
      "|960    |3.4854700854700855|The Unforgiven                                                          |585  |\n",
      "|12538  |3.4818062253397635|The Black Cauldron                                                      |2281 |\n",
      "|1061   |3.4814814814814814|Spider-Man vs. Doc Ock                                                  |513  |\n",
      "|17290  |3.4754299754299756|The Paleface                                                            |814  |\n",
      "|4552   |3.474462365591398 |Laverne & Shirley: Season 1                                             |744  |\n",
      "|16982  |3.4744351961950057|The Black Stallion Returns                                              |841  |\n",
      "|6529   |3.4735532047293094|Three's Company: Season 1                                               |1607 |\n",
      "|3893   |3.470972116281041 |The People vs. Larry Flynt                                              |11799|\n",
      "|11829  |3.4669672613213094|James and the Giant Peach                                               |5101 |\n",
      "|6400   |3.4661354581673307|Catch Me If You Can: Bonus Material                                     |502  |\n",
      "|2757   |3.464063886424135 |Back to School                                                          |7889 |\n",
      "|14258  |3.463443396226415 |Peeping Tom                                                             |848  |\n",
      "|14335  |3.4629144851657943|Barry Lyndon                                                            |2292 |\n",
      "|636    |3.4598684210526316|Stir Crazy                                                              |7600 |\n",
      "|4932   |3.4561431160847977|The Saint                                                               |12689|\n",
      "|8493   |3.4553941908713695|The Rose                                                                |3856 |\n",
      "|1134   |3.4550682961897916|Empire Falls                                                            |1391 |\n",
      "|15855  |3.4532760472610096|Cadet Kelly                                                             |931  |\n",
      "|15246  |3.4531330251669234|Alien 3: Collector's Edition                                            |7788 |\n",
      "|6172   |3.4529262086513994|The Best of Insomniac: Uncensored: Vol. 2                               |786  |\n",
      "|15772  |3.4523489932885907|Kikujiro                                                                |745  |\n",
      "|8781   |3.451359084406295 |Quest for Camelot                                                       |1398 |\n",
      "|17522  |3.450199203187251 |Cross Creek                                                             |502  |\n",
      "|14177  |3.4460059171597632|The Three Stooges: Spook Louder                                         |1352 |\n",
      "|13787  |3.445546622115485 |Powder                                                                  |9577 |\n",
      "|15449  |3.4453109378124376|Man of the House                                                        |5001 |\n",
      "|2375   |3.4450074515648286|Fletch Lives                                                            |3355 |\n",
      "|17574  |3.4428234600648393|Eye for an Eye                                                          |6786 |\n",
      "|7186   |3.4409613375130617|Jeffrey                                                                 |1914 |\n",
      "|8977   |3.436893203883495 |The Ladykillers                                                         |1545 |\n",
      "|4902   |3.43202416918429  |Young Sherlock Holmes                                                   |1655 |\n",
      "|17725  |3.4313529705441836|Jerry Seinfeld: I'm Telling You for the Last Time                       |2003 |\n",
      "|4299   |3.429951690821256 |Knight Rider: Season 1                                                  |1035 |\n",
      "|16931  |3.4290657439446366|The Tigger Movie                                                        |3468 |\n",
      "|16262  |3.4288171473934903|Assault on Precinct 13                                                  |7558 |\n",
      "|7517   |3.4256212810640534|Before Sunrise                                                          |5714 |\n",
      "|9672   |3.4251134644478065|The Osbournes: Season 2 1/2                                             |661  |\n",
      "|13633  |3.4235294117647057|Girls! Girls! Girls!                                                    |680  |\n",
      "|16797  |3.4232715008431702|Dragon Ball: The Saga of Goku                                           |593  |\n",
      "|4485   |3.4229722373434948|House of Wax / The Mystery of the Wax Museum                            |1837 |\n",
      "|15576  |3.422716049382716 |Bad Girls                                                               |2025 |\n",
      "|6066   |3.422062350119904 |The Story of the Weeping Camel                                          |1251 |\n",
      "|8703   |3.421216848673947 |Margaret Cho: Revolution                                                |641  |\n",
      "|8512   |3.4208991723100075|The World Is Not Enough                                                 |10632|\n",
      "|8163   |3.420459122029803 |Two Brothers                                                            |2483 |\n",
      "|6482   |3.418896833503575 |Gremlins                                                                |19580|\n",
      "|1803   |3.417124809919289 |Alien: Resurrection: Collector's Edition                                |8549 |\n",
      "|8166   |3.416452442159383 |The Care Bears Movie                                                    |1167 |\n",
      "|6556   |3.416015625       |Romeo + Juliet                                                          |9216 |\n",
      "|14810  |3.41421143847487  |Dolphins: IMAX                                                          |577  |\n",
      "|638    |3.414186710150836 |The Last Dragon                                                         |2453 |\n",
      "|681    |3.4135966578047854|Police Academy 3: Back in Training                                      |2633 |\n",
      "|13055  |3.412403100775194 |Rocky (Hindi)                                                           |645  |\n",
      "|5943   |3.4110050533408196|The Life and Times of Judge Roy Bean                                    |1781 |\n",
      "|14505  |3.409536541889483 |The War                                                                 |2244 |\n",
      "|10750  |3.4092446448703493|Survivor: Season 2: The Australian Outback                              |887  |\n",
      "|9617   |3.4055360812280915|Stepmom                                                                 |16546|\n",
      "|16606  |3.404884488448845 |Fear                                                                    |7575 |\n",
      "|1853   |3.4048682447521217|Death Wish                                                              |4478 |\n",
      "|10889  |3.40421755924418  |Keeping the Faith                                                       |9579 |\n",
      "|6336   |3.40354609929078  |The Crying Game: Collector's Edition                                    |11280|\n",
      "|15592  |3.4026152787336543|Camp Nowhere                                                            |1453 |\n",
      "|2103   |3.40251572327044  |Sunshine                                                                |1590 |\n",
      "|9237   |3.4013360739979444|The Witches                                                             |1946 |\n",
      "|14484  |3.40106201171875  |The Naked Gun                                                           |16384|\n",
      "|17624  |3.3992537313432836|Free Willy 2: The Adventure Home                                        |2144 |\n",
      "|15955  |3.3975849731663685|Pollock                                                                 |6708 |\n",
      "|9997   |3.3963133640552994|Oh God! You Devil!                                                      |868  |\n",
      "|9043   |3.3945349054838108|Arthur                                                                  |10686|\n",
      "|6131   |3.391304347826087 |Wizards                                                                 |529  |\n",
      "|3587   |3.3912346338856225|Abbott & Costello Meet the Mummy                                        |1871 |\n",
      "|5607   |3.3905200298581737|The Hunchback of Notre Dame                                             |8038 |\n",
      "|9798   |3.3899392689354877|A Civil Action                                                          |8727 |\n",
      "|6911   |3.3891559026734757|Little Shop of Horrors                                                  |13316|\n",
      "|6226   |3.3823933975240714|Juliet of the Spirits                                                   |727  |\n",
      "|15160  |3.3770661157024793|Our Man Flint                                                           |1936 |\n",
      "|6523   |3.3763473053892215|Wildcats                                                                |6680 |\n",
      "|3824   |3.375929752066116 |Fear and Loathing in Las Vegas                                          |9680 |\n",
      "|11673  |3.375894616741002 |Drumline                                                                |9641 |\n",
      "|12391  |3.374645605508303 |Ulee's Gold                                                             |2469 |\n",
      "|12423  |3.3739545997610514|Dr. Quinn                                                               |837  |\n",
      "|15582  |3.3727782302496045|Sweet Home Alabama                                                      |20873|\n",
      "|15409  |3.3724214829957257|Eurotrip                                                                |10762|\n",
      "|4441   |3.3720703125      |The Last Supper                                                         |2048 |\n",
      "|3638   |3.3705926481620403|Bad Boys II                                                             |15996|\n",
      "|7919   |3.3690958164642377|Niagara                                                                 |1482 |\n",
      "|12948  |3.3684210526315788|'Round Midnight                                                         |608  |\n",
      "|4189   |3.3663194444444446|Newlyweds: Nick & Jessica: Seasons 2 & 3                                |576  |\n",
      "|12661  |3.364543450516301 |Hellraiser                                                              |8619 |\n",
      "|2243   |3.3641975308641974|Alaska                                                                  |810  |\n",
      "|1851   |3.3624420401854715|I Want to Live!                                                         |1294 |\n",
      "|11887  |3.361610968294773 |Operation Condor                                                        |2334 |\n",
      "|17196  |3.357142857142857 |Bird                                                                    |1414 |\n",
      "|14199  |3.356760886172651 |South Pacific                                                           |2618 |\n",
      "|10024  |3.3555678059536933|Hello Again                                                             |1814 |\n",
      "|3546   |3.3551912568306013|Speed Racer                                                             |549  |\n",
      "|7262   |3.3549920760697307|War and Peace                                                           |631  |\n",
      "|156    |3.354724757138652 |Husbands and Wives                                                      |3397 |\n",
      "|15830  |3.3539119804400976|The Gods Must Be Crazy 2                                                |1636 |\n",
      "|16444  |3.351005484460695 |Over the Top                                                            |1641 |\n",
      "|16162  |3.346092503987241 |Kim Possible: The Secret Files                                          |627  |\n",
      "|17558  |3.3452440239043826|Kiss of the Dragon                                                      |8032 |\n",
      "|16788  |3.343447850236577 |Blast from the Past                                                     |9722 |\n",
      "|13298  |3.338748532954475 |National Lampoon's European Vacation                                    |16189|\n",
      "|3237   |3.3382113821138213|Plump Fiction                                                           |1230 |\n",
      "|17104  |3.3372379778051786|In the Army Now                                                         |3244 |\n",
      "|7257   |3.3353137764574825|Remo Williams: The Adventure Begins                                     |2693 |\n",
      "|4546   |3.333979641299079 |Chasing Liberty                                                         |6189 |\n",
      "|14075  |3.332764505119454 |A Rumor of Angels                                                       |586  |\n",
      "|12336  |3.331989924433249 |The Gauntlet                                                            |3970 |\n",
      "|16869  |3.3301930147058822|Sweet and Lowdown                                                       |4352 |\n",
      "|12232  |3.3296177558569666|Lost in Translation                                                     |20275|\n",
      "|8096   |3.328185328185328 |Mountains of the Moon                                                   |777  |\n",
      "|13328  |3.328045325779037 |Death and the Maiden                                                    |1765 |\n",
      "|13748  |3.3275432658535027|The First Wives Club                                                    |15659|\n",
      "|9717   |3.3271461716937356|Airport                                                                 |3017 |\n",
      "|1046   |3.3266707046234605|Uptown Girls                                                            |9906 |\n",
      "|15515  |3.3264563106796117|Belly                                                                   |824  |\n",
      "|14013  |3.3262247838616714|Tom Jones                                                               |1735 |\n",
      "|1305   |3.3241070403123922|Thirteen                                                                |8707 |\n",
      "|7571   |3.322972972972973 |The Dreamlife of Angels                                                 |740  |\n",
      "|12497  |3.3208995787471123|Bring It On                                                             |14718|\n",
      "|10019  |3.317658349328215 |Metropolis                                                              |2084 |\n",
      "|11732  |3.3145187601957584|Good Boy!                                                               |3065 |\n",
      "|5272   |3.3141831238779176|Invaders from Mars                                                      |557  |\n",
      "|10429  |3.3120947523126136|Final Destination 2                                                     |11567|\n",
      "|10836  |3.3076923076923075|Return of the Living Dead 2                                             |1053 |\n",
      "|2512   |3.3066361556064074|Trees Lounge                                                            |2185 |\n",
      "|11614  |3.3020637898686678|Flawless                                                                |2132 |\n",
      "|3151   |3.295996001554951 |Napoleon Dynamite                                                       |18007|\n",
      "|3253   |3.29137822529893  |The Opposite of Sex                                                     |6356 |\n",
      "|5877   |3.2899484536082473|George Washington                                                       |776  |\n",
      "|6318   |3.2887402452619843|Mr. Majestyk                                                            |897  |\n",
      "|12760  |3.2848751835535976|Crimes of the Heart                                                     |681  |\n",
      "|17358  |3.2808360317927585|Narc                                                                    |6794 |\n",
      "|1406   |3.2807910426057876|Hook                                                                    |20631|\n",
      "|4144   |3.2803986710963455|The Brothers                                                            |3010 |\n",
      "|15532  |3.2786277236903105|She's All That                                                          |10785|\n",
      "|4761   |3.277782918478764 |The Cannonball Run                                                      |10807|\n",
      "|850    |3.275735294117647 |Stoked: The Rise and Fall of Gator                                      |544  |\n",
      "|2866   |3.274994332350941 |Message in a Bottle                                                     |8822 |\n",
      "|6917   |3.26951871657754  |Under the Sand                                                          |935  |\n",
      "|10733  |3.2625661375661377|She's Out of Control                                                    |1512 |\n",
      "|8128   |3.2606382978723403|Five Card Stud                                                          |564  |\n",
      "|4119   |3.2606060606060607|White Palace                                                            |825  |\n",
      "|2794   |3.260135135135135 |The Curse of Frankenstein                                               |592  |\n",
      "|949    |3.259552042160738 |Henry Fool                                                              |759  |\n",
      "|15529  |3.2585812356979407|Money Talks                                                             |4370 |\n",
      "|15516  |3.256921373200443 |Sarafina!                                                               |903  |\n",
      "|15808  |3.25685903500473  |Citizen Ruth                                                            |2114 |\n",
      "|15929  |3.2567432567432566|Shining Through                                                         |1001 |\n",
      "|10835  |3.256076388888889 |Stigmata                                                                |12672|\n",
      "|1983   |3.2558439881183006|Final Fantasy: The Spirits Within                                       |7743 |\n",
      "|2460   |3.251753469631398 |Cujo                                                                    |6701 |\n",
      "|2104   |3.2457989176872686|Kickboxer                                                               |3511 |\n",
      "|15962  |3.244075829383886 |Maximum Risk                                                            |1266 |\n",
      "|15410  |3.2416974169741697|The Dancer Upstairs                                                     |1626 |\n",
      "|849    |3.2383488681757657|Mr. & Mrs. Bridge                                                       |751  |\n",
      "|4943   |3.2289635247381727|Against All Odds                                                        |2769 |\n",
      "|14154  |3.22840454964648  |Don't Be a Menace to South Central While Drinking Your Juice in the Hood|3253 |\n",
      "|11442  |3.228371278458844 |Lost in America                                                         |2855 |\n",
      "|4586   |3.22726368159204  |But I'm a Cheerleader                                                   |5025 |\n",
      "|9517   |3.225081890500702 |Silent Running                                                          |2137 |\n",
      "|6234   |3.223705285638014 |Catch That Kid                                                          |1873 |\n",
      "|11837  |3.223122866894198 |Three Men and a Baby                                                    |18752|\n",
      "|6988   |3.223095051060487 |Mighty Aphrodite                                                        |6365 |\n",
      "|3135   |3.219544491525424 |Frankie and Johnny                                                      |3776 |\n",
      "|4876   |3.2195121951219514|Vegas Vacation                                                          |6150 |\n",
      "|3143   |3.2154696132596685|King Solomon's Mines                                                    |543  |\n",
      "|2528   |3.214403600900225 |Arachnophobia                                                           |6665 |\n",
      "|11025  |3.2143233280674037|A Midsummer Night's Sex Comedy                                          |1899 |\n",
      "|2352   |3.2132851333032084|Youngblood                                                              |2213 |\n",
      "|17653  |3.2130764740221833|The Accidental Spy                                                      |1713 |\n",
      "|16948  |3.2102793296089387|Bridget Jones: The Edge of Reason                                       |8950 |\n",
      "|2518   |3.209941829719725 |Things to Do in Denver When You're Dead                                 |3782 |\n",
      "|718    |3.209225700164745 |44 Minutes                                                              |607  |\n",
      "|11775  |3.209142295404276 |The Fighting Temptations                                                |4069 |\n",
      "|13604  |3.208029197080292 |Monster Garage                                                          |548  |\n",
      "|17741  |3.2058823529411766|Ginger Snaps 2: Unleashed                                               |1020 |\n",
      "|10712  |3.2055612418969637|Above the Law                                                           |5862 |\n",
      "|1482   |3.2023297037224614|Beyond Borders                                                          |3949 |\n",
      "|16790  |3.2015198423867153|The Grinch                                                              |3553 |\n",
      "|1668   |3.1978592280246514|Friday the 13th: Part 3                                                 |3083 |\n",
      "|4064   |3.1960098004900246|The Big Hit                                                             |2857 |\n",
      "|16770  |3.190984578884935 |Happy                                                                   |4215 |\n",
      "|15071  |3.1900452488687785|The Outer Limits: The New Series: Sex and Science Fiction               |663  |\n",
      "|11563  |3.189969604863222 |Dragon Ball Z: Imperfect Cell Saga                                      |658  |\n",
      "|4268   |3.1846153846153844|Double                                                                  |520  |\n",
      "|16046  |3.1833534378769603|The Beverly Hillbillies                                                 |1658 |\n",
      "|3943   |3.1818181818181817|Hitman                                                                  |517  |\n",
      "|14738  |3.177142857142857 |Formula 51                                                              |4550 |\n",
      "|8849   |3.1769230769230767|Kama Sutra: A Tale of Love                                              |1430 |\n",
      "|8162   |3.1766945925361765|Get on the Bus                                                          |1313 |\n",
      "|2789   |3.1765704584040746|Gus                                                                     |589  |\n",
      "|6014   |3.1743772241992882|House of Wax                                                            |3091 |\n",
      "|5799   |3.1703125         |Jackie Chan's Project A                                                 |1280 |\n",
      "|13489  |3.1637852593266604|Attila                                                                  |1099 |\n",
      "|11213  |3.162330623306233 |Apt Pupil                                                               |3690 |\n",
      "|17650  |3.1595744680851063|Unstrung Heroes                                                         |752  |\n",
      "|3229   |3.1591160220994476|Dinotopia                                                               |905  |\n",
      "|14712  |3.158314522197141 |Tomb Raider                                                             |19935|\n",
      "|17020  |3.156716417910448 |Before and After                                                        |804  |\n",
      "|13674  |3.1487455197132617|Kandahar                                                                |558  |\n",
      "|15712  |3.141881240147136 |Cradle 2 the Grave                                                      |7612 |\n",
      "|7991   |3.1398134285385235|The Hunted                                                              |8683 |\n",
      "|3734   |3.1348448687350836|Gorgeous                                                                |838  |\n",
      "|14088  |3.1339335959482275|The Pillow Book                                                         |1777 |\n",
      "|3743   |3.1336263736263734|Boys and Girls                                                          |2275 |\n",
      "|5640   |3.132596685082873 |Once a Thief                                                            |543  |\n",
      "|12243  |3.123896562467546 |Pushing Tin                                                             |9629 |\n",
      "|1092   |3.121556624398776 |Thin Line Between Love & Hate                                           |2287 |\n",
      "|17561  |3.114256825075834 |I'm With Lucy                                                           |989  |\n",
      "|2749   |3.112189859762675 |The Big Tease                                                           |927  |\n",
      "|10493  |3.108108108108108 |Hunted                                                                  |518  |\n",
      "|2251   |3.1080862533692724|The Rookie                                                              |3710 |\n",
      "|17338  |3.101826792963464 |Forget Paris                                                            |2956 |\n",
      "|5336   |3.1010452961672472|The Inkwell                                                             |861  |\n",
      "|7544   |3.100250626566416 |Orange County                                                           |8379 |\n",
      "|16975  |3.098976109215017 |Dimples                                                                 |586  |\n",
      "|1104   |3.0982125696713436|Krull                                                                   |5203 |\n",
      "|9256   |3.0979133226324236|Tom & Viv                                                               |623  |\n",
      "|3084   |3.0892857142857144|Rollerball                                                              |3080 |\n",
      "|6291   |3.0842671447781265|King Kong                                                               |2231 |\n",
      "|16344  |3.0836909871244633|Wonderland                                                              |4660 |\n",
      "|12275  |3.081221880179967 |Married to the Mob                                                      |4223 |\n",
      "|6965   |3.0806451612903225|Robinson Crusoe                                                         |558  |\n",
      "|1260   |3.073189522342065 |Journey to the Center of the Earth                                      |1298 |\n",
      "|12503  |3.072992700729927 |Urbania                                                                 |685  |\n",
      "|11317  |3.0695652173913044|Me Without You                                                          |1035 |\n",
      "|3418   |3.0674139688014423|Sister Act 2: Back in the Habit                                         |12757|\n",
      "|16572  |3.0668591737005775|The Perfect Score                                                       |4502 |\n",
      "|4852   |3.066582385166456 |U Turn                                                                  |4746 |\n",
      "|13565  |3.060810810810811 |You Got Served                                                          |2368 |\n",
      "|11412  |3.0602636534839927|Lone Star State of Mind                                                 |531  |\n",
      "|3326   |3.059572163552667 |Chain Reaction                                                          |7386 |\n",
      "|9131   |3.057071129707113 |Air America                                                             |5975 |\n",
      "|12682  |3.0564805746000654|Candyman                                                                |3063 |\n",
      "|8      |3.0558303886925797|What the #$*! Do We Know!?                                              |2830 |\n",
      "|15539  |3.055636896046852 |Suicide Club                                                            |683  |\n",
      "|7607   |3.055397727272727 |Dirty Dancing: Havana Nights                                            |3520 |\n",
      "|543    |3.055350553505535 |Roughnecks: The Starship Troopers Chronicles: The Pluto Campaign        |542  |\n",
      "|9824   |3.050788091068301 |Street Fighter II: Animated Movie                                       |571  |\n",
      "|8867   |3.049661399548533 |The Tommyknockers                                                       |2658 |\n",
      "|9087   |3.0468497576736673|Hero                                                                    |3095 |\n",
      "|9152   |3.0462466487935655|Fire Birds                                                              |1492 |\n",
      "|13242  |3.045714285714286 |Audrey Rose                                                             |700  |\n",
      "|4429   |3.0445475638051045|Undisputed                                                              |2155 |\n",
      "|13212  |3.043859649122807 |The Company of Wolves                                                   |570  |\n",
      "|1140   |3.0432709937660434|To Gillian on her 37th Birthday                                         |2727 |\n",
      "|1893   |3.039840637450199 |Fun with Dick and Jane                                                  |502  |\n",
      "|111    |3.0373038930854155|Duplex (Widescreen)                                                     |8605 |\n",
      "|2366   |3.036518563603165 |Just Visiting                                                           |1643 |\n",
      "|6334   |3.036029411764706 |Things You Can Tell Just By Looking at Her                              |1360 |\n",
      "|15820  |3.035093938319745 |Love Don't Cost a Thing                                                 |2821 |\n",
      "|1884   |3.0328751857355125|Captain Corelli's Mandolin                                              |5384 |\n",
      "|1455   |3.0319940476190474|Belly of the Beast                                                      |1344 |\n",
      "|12683  |3.031719532554257 |Bride of Re-Animator                                                    |599  |\n",
      "|3670   |3.028045489591365 |Encino Man                                                              |10376|\n",
      "|1432   |3.024621212121212 |Ride with the Devil                                                     |1056 |\n",
      "|5651   |3.024112174026995 |Boomerang                                                               |7631 |\n",
      "|3043   |3.0192837465564737|Lord of Illusions                                                       |2178 |\n",
      "|6013   |3.018238021638331 |An American Werewolf in Paris                                           |3235 |\n",
      "|4346   |3.0162916989914663|The Last American Virgin                                                |1289 |\n",
      "|4685   |3.0157665213015767|Lake Placid                                                             |5962 |\n",
      "|6448   |3.013833992094862 |Circuit                                                                 |506  |\n",
      "|13853  |3.0138292799237005|Dark Blue                                                               |4194 |\n",
      "|5814   |3.013061536779976 |One Hour Photo                                                          |18298|\n",
      "|10926  |3.01076095311299  |Employee of the Month                                                   |1301 |\n",
      "|11245  |3.0095087163232965|A Rage in Harlem                                                        |631  |\n",
      "|5367   |3.008143779837124 |The Glimmer Man                                                         |3561 |\n",
      "|17654  |3.007446016381236 |K-911                                                                   |2686 |\n",
      "|11034  |3.0064683053040104|Father Hood                                                             |773  |\n",
      "|14203  |3.002995889361109 |Batman Forever                                                          |14353|\n",
      "|11259  |2.9971181556195967|Shooting Fish                                                           |694  |\n",
      "|17554  |2.9961165048543688|Wide Awake                                                              |515  |\n",
      "|11286  |2.992686170212766 |White Fang 2: Myth of the White Wolf                                    |1504 |\n",
      "|2510   |2.9924924924924925|Joe the King                                                            |666  |\n",
      "|7524   |2.9911075181891675|Slackers                                                                |2474 |\n",
      "|10721  |2.990469382892542 |Tomcats                                                                 |4197 |\n",
      "|4042   |2.988776655443322 |Pretty Baby                                                             |891  |\n",
      "|5897   |2.986162773396816 |Jeepers Creepers 2                                                      |6721 |\n",
      "|15234  |2.982483416252073 |Red Planet                                                              |9648 |\n",
      "|11080  |2.982136540502299 |The Patriot                                                             |5654 |\n",
      "|11347  |2.9820286323484617|Legal Eagles                                                            |3283 |\n",
      "|5716   |2.980461811722913 |Devil's Pond                                                            |563  |\n",
      "|4981   |2.9768041237113403|Dracula                                                                 |776  |\n",
      "|185    |2.976499690785405 |Missing in Action 2: The Beginning / Missing in Action 3: Braddock      |1617 |\n",
      "|4563   |2.973744292237443 |The Statement                                                           |876  |\n",
      "|16232  |2.9707762557077624|Leviathan                                                               |2190 |\n",
      "|10846  |2.9693279206134418|Bamboozled                                                              |2217 |\n",
      "|723    |2.9663744790918236|Curly Sue                                                               |6959 |\n",
      "|11376  |2.963670114028109 |Head of State                                                           |7542 |\n",
      "|5425   |2.9603174603174605|Best Laid Plans                                                         |1260 |\n",
      "|9421   |2.9600550964187327|Anatomy                                                                 |726  |\n",
      "|12798  |2.9586802343509095|How to Deal                                                             |3243 |\n",
      "|10921  |2.956358911647814 |Just Married                                                            |13084|\n",
      "|6230   |2.954901960784314 |Riverworld                                                              |510  |\n",
      "|14317  |2.9541745134965476|View from the Top                                                       |7965 |\n",
      "|13569  |2.953846153846154 |Die Mommie Die                                                          |845  |\n",
      "|15223  |2.950913945368659 |Osmosis Jones                                                           |4869 |\n",
      "|7238   |2.9444701527070802|Prozac Nation                                                           |2161 |\n",
      "|12432  |2.9442270058708413|The Owl and the Pussycat                                                |1022 |\n",
      "|9410   |2.9434187016081   |P.S.                                                                    |1679 |\n",
      "|12355  |2.9401008477863355|A.I. Artificial Intelligence                                            |18047|\n",
      "|8448   |2.935420743639922 |The Incredible Hulk                                                     |511  |\n",
      "|7067   |2.9345255474452556|Charlie's Angels: Full Throttle                                         |13700|\n",
      "|3890   |2.930349218599267 |Confessions of a Teenage Drama Queen                                    |5183 |\n",
      "|16169  |2.9300722258699934|The Haunting                                                            |12184|\n",
      "|12273  |2.9297520661157024|Johns                                                                   |726  |\n",
      "|3220   |2.9273112208892025|Xena: Warrior Princess: Series Finale                                   |1417 |\n",
      "|2988   |2.919938414164742 |About Adam                                                              |1299 |\n",
      "|452    |2.9195767195767197|Scorched                                                                |945  |\n",
      "|8384   |2.9158390628978865|3000 Miles to Graceland                                                 |7854 |\n",
      "|8051   |2.9111367570686673|The Curse of the Jade Scorpion                                          |3466 |\n",
      "|1600   |2.9099216710182767|Poison Ivy 2                                                            |1532 |\n",
      "|2284   |2.908387496131229 |Teen Wolf / Teen Wolf Too (Double Feature)                              |6462 |\n",
      "|122    |2.9027291812456264|Cube 2: Hypercube                                                       |1429 |\n",
      "|1252   |2.9019933554817277|The Story of O                                                          |602  |\n",
      "|16300  |2.885321100917431 |The Great White Hype                                                    |872  |\n",
      "|14137  |2.8830400709744195|Johnny Mnemonic                                                         |6763 |\n",
      "|15153  |2.88302752293578  |Flashback                                                               |1744 |\n",
      "|13288  |2.8802345058626466|All I Want                                                              |1194 |\n",
      "|3944   |2.879184861717613 |Wonderland                                                              |687  |\n",
      "|9875   |2.870514820592824 |Innocence                                                               |641  |\n",
      "|6347   |2.869839200347675 |Big Momma's House                                                       |13806|\n",
      "|17693  |2.8697711128650356|Operation Dumbo Drop                                                    |2534 |\n",
      "|17334  |2.863028953229399 |Beethoven's 3rd                                                         |898  |\n",
      "|10109  |2.862317794775581 |Major League II                                                         |6929 |\n",
      "|4966   |2.859550561797753 |The Hot Spot                                                            |534  |\n",
      "|2659   |2.857142857142857 |Grateful Dawg                                                           |770  |\n",
      "|14552  |2.856287425149701 |To Walk with Lions                                                      |501  |\n",
      "|16970  |2.854083817681248 |The Little Vampire                                                      |3269 |\n",
      "|10100  |2.8523936170212765|Flesh and Bone                                                          |1504 |\n",
      "|5220   |2.8508437670114315|Drowning Mona                                                           |3674 |\n",
      "|7899   |2.8493659536313567|Junior                                                                  |7807 |\n",
      "|17203  |2.83793410507569  |Big Top Pee-Wee                                                         |1123 |\n",
      "|15272  |2.834008097165992 |Wild Orchid                                                             |1976 |\n",
      "|13485  |2.826259946949602 |City Heat                                                               |754  |\n",
      "|398    |2.8258488499452357|In the Realm of the Senses                                              |913  |\n",
      "|5342   |2.824487334137515 |The Butcher's Wife                                                      |3316 |\n",
      "|3192   |2.8209769402429954|Double Impact                                                           |4033 |\n",
      "|11908  |2.8059701492537314|Embrace of the Vampire                                                  |1541 |\n",
      "|7939   |2.783410138248848 |Submerged                                                               |651  |\n",
      "|2731   |2.7734864300626305|Tank Girl                                                               |3832 |\n",
      "|3316   |2.767258382642998 |Bartleby                                                                |507  |\n",
      "|6315   |2.759539236861051 |Friday the 13th: Part 8: Jason Takes Manhattan                          |2778 |\n",
      "|13519  |2.7530717986676536|Envy                                                                    |6755 |\n",
      "|4283   |2.751238850346878 |The Main Event                                                          |1009 |\n",
      "|15547  |2.735969387755102 |Fortress 2                                                              |784  |\n",
      "|15741  |2.730656219392752 |Burglar                                                                 |2042 |\n",
      "|2235   |2.730188679245283 |Undertow                                                                |1590 |\n",
      "|11340  |2.7294213528932354|Johnny Be Good                                                          |2454 |\n",
      "|4569   |2.722459436379163 |3 Ninjas                                                                |1171 |\n",
      "|15216  |2.7176684881602915|Circus                                                                  |549  |\n",
      "|12679  |2.7124749833222146|Young Adam                                                              |1499 |\n",
      "|11496  |2.704794916233391 |Staying Alive                                                           |3462 |\n",
      "|5096   |2.704507512520868 |My Summer of Love                                                       |599  |\n",
      "|8920   |2.6971830985915495|Tapeheads                                                               |710  |\n",
      "|2658   |2.684303350970018 |MVP: Most Valuable Primate                                              |567  |\n",
      "|3862   |2.6834117144078666|Superman IV: The Quest for Peace                                        |4678 |\n",
      "|16589  |2.6831228473019517|Children of the Corn 5: Fields of Terror                                |871  |\n",
      "|10082  |2.6828943868050015|Soul Plane                                                              |3759 |\n",
      "|7442   |2.6649145860709593|Beowulf                                                                 |761  |\n",
      "|11690  |2.652435961828227 |Soul Survivors                                                          |1991 |\n",
      "|2316   |2.632156862745098 |Breathless                                                              |1275 |\n",
      "|10522  |2.6318897637795278|Aria                                                                    |508  |\n",
      "|127    |2.626614261650758 |Fatal Beauty                                                            |1781 |\n",
      "|13638  |2.6120959332638165|George of the Jungle 2                                                  |959  |\n",
      "|8307   |2.59552495697074  |Franklin and the Green Knight: The Movie                                |581  |\n",
      "|1845   |2.586374695863747 |Gordy                                                                   |1233 |\n",
      "|6611   |2.573529411764706 |Ed Gein                                                                 |748  |\n",
      "|1289   |2.5590355013791264|Look Who's Talking Too                                                  |11239|\n",
      "|16283  |2.5354150799695354|Cops & Robbersons                                                       |2626 |\n",
      "|5604   |2.526178010471204 |Dorm Daze                                                               |1146 |\n",
      "|5474   |2.49010989010989  |Gloria                                                                  |910  |\n",
      "|3196   |2.47678369195923  |Leave it to Beaver                                                      |883  |\n",
      "|2675   |2.452724885095207 |Solaris                                                                 |9138 |\n",
      "|9518   |2.4148862853204687|Showgirls                                                               |5804 |\n",
      "|2356   |2.3710181136789505|The Adventures of Rocky and Bullwinkle                                  |1601 |\n",
      "|2116   |2.302828618968386 |Halloween III: Season of the Witch                                      |601  |\n",
      "|9550   |2.253846153846154 |Perfect                                                                 |1950 |\n",
      "|1100   |2.246740547588005 |Dr. T & the Women                                                       |3068 |\n",
      "|13059  |2.202714164546226 |The Man Who Loved Women                                                 |1179 |\n",
      "|7587   |2.0611570247933884|It's Pat: The Movie                                                     |605  |\n",
      "|7418   |2.020348837209302 |From Justin to Kelly: The Tale of Two American Idols                    |1032 |\n",
      "|4394   |1.967373572593801 |Druids                                                                  |613  |\n",
      "+-------+------------------+------------------------------------------------------------------------+-----+\n",
      "\n"
     ]
    }
   ],
   "source": [
    "#filtering it so that we have the top rated movies where at least 500 people reviewed it\n",
    "movies_with_500_ratings_or_more = movie_names_with_avg_rating_df.filter(F.col('count')>=500)\n",
    "print('Movies with highest ratings:')\n",
    "movies_with_500_ratings_or_more.show(5000, truncate=False)"
   ]
  },
  {
   "cell_type": "markdown",
   "id": "2cd2fd99",
   "metadata": {},
   "source": [
    "### Further Data Analysis"
   ]
  },
  {
   "cell_type": "code",
   "execution_count": 9,
   "id": "da75ade8",
   "metadata": {},
   "outputs": [
    {
     "name": "stdout",
     "output_type": "stream",
     "text": [
      "Distinct users in the training data set: \n"
     ]
    },
    {
     "name": "stderr",
     "output_type": "stream",
     "text": [
      "[Stage 21:===============================================>        (22 + 4) / 26]"
     ]
    },
    {
     "name": "stdout",
     "output_type": "stream",
     "text": [
      "+--------------------------+\n",
      "|count(DISTINCT CustomerId)|\n",
      "+--------------------------+\n",
      "|                     28978|\n",
      "+--------------------------+\n",
      "\n"
     ]
    },
    {
     "name": "stderr",
     "output_type": "stream",
     "text": [
      "                                                                                \r"
     ]
    }
   ],
   "source": [
    "#getting number of distinct users in training dataset\n",
    "from pyspark.sql.functions import countDistinct\n",
    "distinctusers=ratings_df.select(countDistinct(\"CustomerId\"))\n",
    "print('Distinct users in the training data set: ')\n",
    "distinctusers.show()"
   ]
  },
  {
   "cell_type": "code",
   "execution_count": 10,
   "id": "dc279eed",
   "metadata": {},
   "outputs": [
    {
     "name": "stdout",
     "output_type": "stream",
     "text": [
      "Distinct movies that have been rated by the users in the training data set: \n"
     ]
    },
    {
     "name": "stderr",
     "output_type": "stream",
     "text": [
      "[Stage 25:==================================================>       (7 + 1) / 8]"
     ]
    },
    {
     "name": "stdout",
     "output_type": "stream",
     "text": [
      "+-----------------------+\n",
      "|count(DISTINCT movieId)|\n",
      "+-----------------------+\n",
      "|                   1821|\n",
      "+-----------------------+\n",
      "\n"
     ]
    },
    {
     "name": "stderr",
     "output_type": "stream",
     "text": [
      "                                                                                \r"
     ]
    }
   ],
   "source": [
    "#getting distinct number of movies that have been rated from the training data set\n",
    "from pyspark.sql.functions import countDistinct\n",
    "distinctmovies=ratings_df.select(countDistinct(\"movieId\"))\n",
    "print('Distinct movies that have been rated by the users in the training data set: ')\n",
    "distinctmovies.show()"
   ]
  },
  {
   "cell_type": "code",
   "execution_count": 11,
   "id": "0cf0f880",
   "metadata": {},
   "outputs": [
    {
     "name": "stdout",
     "output_type": "stream",
     "text": [
      "Total movies available for rating: \n",
      "+------------------+\n",
      "|count(DISTINCT ID)|\n",
      "+------------------+\n",
      "|             17769|\n",
      "+------------------+\n",
      "\n"
     ]
    }
   ],
   "source": [
    "#getting distinct number of movies that have been rated from the training data set\n",
    "from pyspark.sql.functions import countDistinct\n",
    "distinctmovies=movies_df.select(countDistinct(\"ID\"))\n",
    "print('Total movies available for rating: ')\n",
    "distinctmovies.show()"
   ]
  },
  {
   "cell_type": "markdown",
   "id": "2a5f24d9",
   "metadata": {},
   "source": [
    "So there are a lot of movies that have not been rated by anyone in the training dataset that we will have to account for when making predictions. "
   ]
  },
  {
   "cell_type": "markdown",
   "id": "f1370968",
   "metadata": {},
   "source": [
    "## Loading in the test set"
   ]
  },
  {
   "cell_type": "code",
   "execution_count": 12,
   "id": "e13a6089",
   "metadata": {},
   "outputs": [
    {
     "name": "stdout",
     "output_type": "stream",
     "text": [
      "+-------+----------+------+\n",
      "|MovieId|CustomerId|Rating|\n",
      "+-------+----------+------+\n",
      "|      8|   2149668|   3.0|\n",
      "|      8|   1089184|   3.0|\n",
      "|      8|   2465894|   3.0|\n",
      "|      8|    534508|   1.0|\n",
      "|      8|    992921|   4.0|\n",
      "|      8|    595054|   4.0|\n",
      "|      8|   1298304|   4.0|\n",
      "|      8|   1661600|   4.0|\n",
      "|      8|    553787|   2.0|\n",
      "|      8|   1309839|   3.0|\n",
      "|      8|    727242|   1.0|\n",
      "|      8|   1437668|   4.0|\n",
      "|      8|   2170930|   1.0|\n",
      "|      8|   1780876|   5.0|\n",
      "|      8|      9660|   3.0|\n",
      "|      8|   2379200|   4.0|\n",
      "|      8|    563186|   5.0|\n",
      "|      8|   1539617|   4.0|\n",
      "|      8|   1656839|   1.0|\n",
      "|      8|   2591126|   4.0|\n",
      "+-------+----------+------+\n",
      "only showing top 20 rows\n",
      "\n"
     ]
    }
   ],
   "source": [
    "# Change to the location of data files\n",
    "dbfs_dir = 's3://dsci6007finalproject'\n",
    "test_ratings_filename = dbfs_dir + '/TestingRatings.txt'\n",
    "#loading in the ratings (testing) data\n",
    "test_ratings_df = sqlContext.read.format('csv').options(header=True, inferSchema=False).schema(test_ratings_df_schema).csv(test_ratings_filename)\n",
    "test_ratings_df.show()"
   ]
  },
  {
   "cell_type": "markdown",
   "id": "7e53c683",
   "metadata": {},
   "source": [
    "One of the things we were asked to find in problem 2 was the average overlap of items rated by the users in the training set for users in the test set and the average overlap of users that rated items in the training set for items appearing in the test set? \n",
    "\n",
    "First, we will start with the average overlap of items rated by users in the training set for users in the test set: "
   ]
  },
  {
   "cell_type": "code",
   "execution_count": 13,
   "id": "f0191116",
   "metadata": {},
   "outputs": [
    {
     "name": "stdout",
     "output_type": "stream",
     "text": [
      "+-------+----------+------+\n",
      "|MovieId|CustomerId|Rating|\n",
      "+-------+----------+------+\n",
      "|    992|   2149668|   3.0|\n",
      "|   1202|   2149668|   3.0|\n",
      "|   1289|   2149668|   1.0|\n",
      "+-------+----------+------+\n",
      "only showing top 3 rows\n",
      "\n"
     ]
    },
    {
     "name": "stderr",
     "output_type": "stream",
     "text": [
      "[Stage 39:=======>                                                  (1 + 7) / 8]"
     ]
    },
    {
     "name": "stdout",
     "output_type": "stream",
     "text": [
      "User 2149668 rated 75 movies. Their IDs can be found below:\n",
      "[992, 1202, 1289, 1305, 2015, 2212, 2342, 2601, 2675, 2755, 2913, 2955, 3151, 3253, 3274, 3290, 3355, 3538, 4847, 4849, 5025, 5562, 5814, 6287, 6336, 6529, 6556, 6971, 7238, 7544, 8166, 8354, 8428, 8596, 8703, 8849, 8851, 9028, 9617, 9689, 9728, 9946, 10080, 10734, 10774, 10889, 11286, 11638, 11888, 12184, 12232, 12275, 12280, 12293, 12355, 12497, 12627, 13614, 13636, 13787, 14144, 14154, 14185, 14198, 14216, 14484, 14505, 14983, 15152, 15246, 15816, 16286, 16707, 17196, 17536]\n"
     ]
    },
    {
     "name": "stderr",
     "output_type": "stream",
     "text": [
      "                                                                                \r"
     ]
    }
   ],
   "source": [
    "# picking one user from the testing data set (CustomerId==2149668)\n",
    "\n",
    "#now find the movies they have rated in the training set: \n",
    "\n",
    "sampleuser_df=ratings_df.filter(F.col('CustomerId')==2149668)\n",
    "sampleuser_df.show(3)\n",
    "\n",
    "\n",
    "#list of all of the movies that the sample user has rated\n",
    "sampleusermovielist=sampleuser_df.select('MovieId').rdd.flatMap(lambda x: x).collect()\n",
    "print('User {} rated {} movies. Their IDs can be found below:'.format(2149668,len(sampleusermovielist)))\n",
    "print(sampleusermovielist)\n",
    "\n",
    "\n",
    "#then find the average number of users who rated each of those movies in the\n",
    "# training set\n",
    "# for movie in sampleusermovielist:\n",
    "#     movie_rating_count=ratings_df.filter(F.col('MovieId')==movie).agg(F.count(ratings_df.Rating).alias(\"count\"))\n",
    "#     movie_rating_count.show()\n",
    "\n",
    "\n"
   ]
  },
  {
   "cell_type": "code",
   "execution_count": 14,
   "id": "8bc30545",
   "metadata": {},
   "outputs": [
    {
     "name": "stdout",
     "output_type": "stream",
     "text": [
      "The number of users who rated each of the same movies as sample user (with id: 2149668):\n"
     ]
    },
    {
     "name": "stderr",
     "output_type": "stream",
     "text": [
      "                                                                                \r"
     ]
    },
    {
     "name": "stdout",
     "output_type": "stream",
     "text": [
      "+-------+-----+\n",
      "|MovieId|count|\n",
      "+-------+-----+\n",
      "|  12184| 7363|\n",
      "|   8354| 1925|\n",
      "|  17196| 1414|\n",
      "|  11888|15196|\n",
      "|   2675| 9138|\n",
      "|  12293|20691|\n",
      "|   8851|12999|\n",
      "|    992| 3164|\n",
      "|   5025| 9653|\n",
      "|   5814|18298|\n",
      "|  14505| 2244|\n",
      "|   8596|23005|\n",
      "|  12627|  635|\n",
      "|  13614|19316|\n",
      "|   1305| 8707|\n",
      "|   9617|16546|\n",
      "|  14185|15690|\n",
      "|   1202|20997|\n",
      "|   5562| 9093|\n",
      "|  15152|  488|\n",
      "+-------+-----+\n",
      "only showing top 20 rows\n",
      "\n",
      "The average number of users that rated each of the same movies is:\n"
     ]
    },
    {
     "name": "stderr",
     "output_type": "stream",
     "text": [
      "[Stage 47:=============================>                            (4 + 4) / 8]"
     ]
    },
    {
     "name": "stdout",
     "output_type": "stream",
     "text": [
      "+------------------+\n",
      "|        avg(count)|\n",
      "+------------------+\n",
      "|10178.373333333333|\n",
      "+------------------+\n",
      "\n"
     ]
    },
    {
     "name": "stderr",
     "output_type": "stream",
     "text": [
      "                                                                                \r"
     ]
    }
   ],
   "source": [
    "#Now we will try to find the average number of users who rated the same movies\n",
    "\n",
    "same_movies_as_sample_user=ratings_df.filter(F.col('MovieId').isin(sampleusermovielist))\n",
    "print('The number of users who rated each of the same movies as sample user (with id: 2149668):')\n",
    "same_movies_as_sample_user_counts=same_movies_as_sample_user.groupBy('MovieId').agg(F.count(same_movies_as_sample_user.Rating).alias(\"count\"))\n",
    "same_movies_as_sample_user_counts.show()\n",
    "\n",
    "print('The average number of users that rated each of the same movies is:')\n",
    "same_movies_as_sample_user_counts.agg(F.avg(F.col(\"count\"))).show()"
   ]
  },
  {
   "cell_type": "markdown",
   "id": "c5e66c37",
   "metadata": {},
   "source": [
    "Now we will look at the average overlap of users that rated items in the training set for items appearing in the test set? "
   ]
  },
  {
   "cell_type": "code",
   "execution_count": 15,
   "id": "31bb92d8",
   "metadata": {},
   "outputs": [
    {
     "name": "stdout",
     "output_type": "stream",
     "text": [
      "The number of people in the training set who voted for each of the 100 most commonly rated films from the training set:\n"
     ]
    },
    {
     "name": "stderr",
     "output_type": "stream",
     "text": [
      "                                                                                \r"
     ]
    },
    {
     "name": "stdout",
     "output_type": "stream",
     "text": [
      "+-------+-----+\n",
      "|MovieId|count|\n",
      "+-------+-----+\n",
      "|  11888|15196|\n",
      "|   2675| 9138|\n",
      "|   6911|13316|\n",
      "|  12293|20691|\n",
      "|   8851|12999|\n",
      "|    442|10193|\n",
      "|   5025| 9653|\n",
      "|  14407|10218|\n",
      "|   1615|18043|\n",
      "|  16147|10430|\n",
      "|   3893|11799|\n",
      "|   9481|12893|\n",
      "|   8596|23005|\n",
      "|   1901|10062|\n",
      "|   1406|20631|\n",
      "|   5814|18298|\n",
      "|   6347|13806|\n",
      "|  13651|20902|\n",
      "|  13614|19316|\n",
      "|   9043|10686|\n",
      "+-------+-----+\n",
      "only showing top 20 rows\n",
      "\n",
      "The average number of users in the training set that rated each of the top 100 movies from the test set:\n"
     ]
    },
    {
     "name": "stderr",
     "output_type": "stream",
     "text": [
      "[Stage 68:==================================================>       (7 + 1) / 8]"
     ]
    },
    {
     "name": "stdout",
     "output_type": "stream",
     "text": [
      "+----------+\n",
      "|avg(count)|\n",
      "+----------+\n",
      "|   15163.9|\n",
      "+----------+\n",
      "\n"
     ]
    },
    {
     "name": "stderr",
     "output_type": "stream",
     "text": [
      "                                                                                \r"
     ]
    }
   ],
   "source": [
    "#start by picking a few movies from the test set, I will just do the top 100\n",
    "# most commonly rated movies from the test set. \n",
    "\n",
    "\n",
    "#getting the 100 most common movies\n",
    "most_common_movies_test_df=test_ratings_df.groupBy('MovieId').agg(F.count(test_ratings_df.MovieId).alias('count')).sort(F.col('count').desc())\n",
    "most_common_movies=most_common_movies_test_df.select('MovieId').rdd.flatMap(lambda x: x).collect()\n",
    "most_common_movies=most_common_movies[:100]   \n",
    "\n",
    "#now seeing how many users rated each of those same movies in the training data\n",
    "most_common_movies_overlap=ratings_df.filter(F.col('MovieId').isin(most_common_movies))\n",
    "most_common_movies_overlap=most_common_movies_overlap.groupBy('MovieId').agg(F.count(same_movies_as_sample_user.Rating).alias(\"count\"))\n",
    "print('The number of people in the training set who voted for each of the 100 most commonly rated films from the training set:')\n",
    "most_common_movies_overlap.show()\n",
    "\n",
    "print('The average number of users in the training set that rated each of the top 100 movies from the test set:')\n",
    "most_common_movies_overlap_avg=most_common_movies_overlap.agg(F.avg(F.col(\"count\"))).show()\n"
   ]
  },
  {
   "cell_type": "code",
   "execution_count": 16,
   "id": "19208fea",
   "metadata": {},
   "outputs": [],
   "source": [
    "# #list of all of the movies that the sample user has rated\n",
    "# sampleusermovielist=sampleuser_df.select('MovieId').rdd.flatMap(lambda x: x).collect()\n",
    "# print(sampleusermovielist)"
   ]
  },
  {
   "cell_type": "code",
   "execution_count": 17,
   "id": "7f88b05c",
   "metadata": {},
   "outputs": [],
   "source": [
    "# for song in sampleusermovielist: \n",
    "    "
   ]
  },
  {
   "cell_type": "code",
   "execution_count": 18,
   "id": "aaa57b00",
   "metadata": {},
   "outputs": [],
   "source": [
    "#creating a df that keeps track of all of the movies each user has rated\n",
    "all_ratings_from_user=ratings_df.groupby('CustomerId').agg(F.collect_set('MovieId').alias('AllMoviesRated'))"
   ]
  },
  {
   "cell_type": "code",
   "execution_count": 19,
   "id": "a9a331be",
   "metadata": {},
   "outputs": [
    {
     "name": "stderr",
     "output_type": "stream",
     "text": [
      "[Stage 75:====================================>                     (5 + 3) / 8]"
     ]
    },
    {
     "name": "stdout",
     "output_type": "stream",
     "text": [
      "+----------+-------+------+--------------------+\n",
      "|CustomerId|MovieId|Rating|      AllMoviesRated|\n",
      "+----------+-------+------+--------------------+\n",
      "|       481|   2532|   5.0|[17423, 13519, 69...|\n",
      "|       481|   2601|   5.0|[17423, 13519, 69...|\n",
      "|       481|   2756|   5.0|[17423, 13519, 69...|\n",
      "|       481|   2913|   5.0|[17423, 13519, 69...|\n",
      "|       481|   3165|   4.0|[17423, 13519, 69...|\n",
      "|       481|   3638|   5.0|[17423, 13519, 69...|\n",
      "|       481|   3670|   3.0|[17423, 13519, 69...|\n",
      "|       481|   3890|   4.0|[17423, 13519, 69...|\n",
      "|       481|   4064|   5.0|[17423, 13519, 69...|\n",
      "|       481|   4432|   4.0|[17423, 13519, 69...|\n",
      "|       481|   6911|   4.0|[17423, 13519, 69...|\n",
      "|       481|   6971|   4.0|[17423, 13519, 69...|\n",
      "|       481|   7511|   4.0|[17423, 13519, 69...|\n",
      "|       481|   7524|   5.0|[17423, 13519, 69...|\n",
      "|       481|   7544|   4.0|[17423, 13519, 69...|\n",
      "|       481|   8596|   4.0|[17423, 13519, 69...|\n",
      "|       481|   9617|   3.0|[17423, 13519, 69...|\n",
      "|       481|  12232|   3.0|[17423, 13519, 69...|\n",
      "|       481|  12355|   5.0|[17423, 13519, 69...|\n",
      "|       481|  12497|   4.0|[17423, 13519, 69...|\n",
      "+----------+-------+------+--------------------+\n",
      "only showing top 20 rows\n",
      "\n"
     ]
    },
    {
     "name": "stderr",
     "output_type": "stream",
     "text": [
      "                                                                                \r"
     ]
    }
   ],
   "source": [
    "all_ratings_from_user=ratings_df.join(all_ratings_from_user, 'CustomerId')\n",
    "all_ratings_from_user.show()"
   ]
  },
  {
   "cell_type": "code",
   "execution_count": 20,
   "id": "84b736b3",
   "metadata": {},
   "outputs": [
    {
     "name": "stdout",
     "output_type": "stream",
     "text": [
      "root\n",
      " |-- CustomerId: integer (nullable = true)\n",
      " |-- MovieId: integer (nullable = true)\n",
      " |-- Rating: double (nullable = true)\n",
      " |-- AllMoviesRated: array (nullable = true)\n",
      " |    |-- element: integer (containsNull = true)\n",
      "\n"
     ]
    }
   ],
   "source": [
    "#finding users who have the same movies rated: \n",
    "\n",
    "all_ratings_from_user.printSchema()\n"
   ]
  },
  {
   "cell_type": "code",
   "execution_count": 21,
   "id": "a55af5e1",
   "metadata": {},
   "outputs": [],
   "source": [
    "# is_even = lambda x: x == sampleusermovielist\n",
    "# res = ratings_df.withColumn(\"arr_evens\", filter(col(\"some_arr\"), is_even))\n",
    "# res.show()"
   ]
  },
  {
   "cell_type": "code",
   "execution_count": 22,
   "id": "baf098d5",
   "metadata": {},
   "outputs": [],
   "source": [
    "# def movieinrated(currentmovielist,movielist): \n",
    "#     if movie in movielist: \n",
    "#         return movie\n",
    "    \n",
    "# movielist=['StarWars']\n",
    "# movieinrated('StarWars',movielist)"
   ]
  },
  {
   "cell_type": "markdown",
   "id": "1effd67b",
   "metadata": {},
   "source": [
    "### Collaborative Filtering\n",
    "\n",
    "Collaborative filtering is a technique that can filter out items that a user might like on the basis of reactions by similar users. It is a method of making automatic predictions (filtering) about people's interests by searching a large group of people and finding smaller sets of users that have similar interests and tastes. It looks at the times they like and combines them to create a ranked list of suggestions. The basic idea is that if person A and person B share interests, than person A is likely to feel the same way about another interest, as opposed to how another random person feels about it. \n",
    "\n",
    "This is the method that will be used to create a Netflix movie recommendation system. "
   ]
  },
  {
   "cell_type": "markdown",
   "id": "9ae39975",
   "metadata": {},
   "source": [
    "### Building the Model "
   ]
  },
  {
   "cell_type": "code",
   "execution_count": 23,
   "id": "237fc5bf",
   "metadata": {},
   "outputs": [
    {
     "name": "stdout",
     "output_type": "stream",
     "text": [
      "+-------+----------+------+\n",
      "|MovieId|CustomerId|Rating|\n",
      "+-------+----------+------+\n",
      "|      8|   1395430|   2.0|\n",
      "|      8|   1205593|   4.0|\n",
      "|      8|   1488844|   4.0|\n",
      "+-------+----------+------+\n",
      "only showing top 3 rows\n",
      "\n"
     ]
    }
   ],
   "source": [
    "training_df=ratings_df\n",
    "training_df.show(3)"
   ]
  },
  {
   "cell_type": "code",
   "execution_count": 24,
   "id": "a4e2cfcf",
   "metadata": {},
   "outputs": [
    {
     "name": "stderr",
     "output_type": "stream",
     "text": [
      "                                                                                \r"
     ]
    },
    {
     "name": "stdout",
     "output_type": "stream",
     "text": [
      "For rank 4 the RMSE is 0.8703085717830881\n"
     ]
    },
    {
     "name": "stderr",
     "output_type": "stream",
     "text": [
      "                                                                                \r"
     ]
    },
    {
     "name": "stdout",
     "output_type": "stream",
     "text": [
      "For rank 8 the RMSE is 0.8703085717830881\n"
     ]
    },
    {
     "name": "stderr",
     "output_type": "stream",
     "text": [
      "[Stage 246:============================================>        (168 + 8) / 200]"
     ]
    },
    {
     "name": "stdout",
     "output_type": "stream",
     "text": [
      "For rank 12 the RMSE is 0.8703085717830881\n",
      "The best model was trained with rank 4\n"
     ]
    },
    {
     "name": "stderr",
     "output_type": "stream",
     "text": [
      "                                                                                \r"
     ]
    }
   ],
   "source": [
    "from pyspark.ml.recommendation import ALS\n",
    "seed = 1800009193\n",
    "# initializing the ALS learner\n",
    "als = ALS()\n",
    "\n",
    "# Now we set the parameters for the method\n",
    "als.setMaxIter(5)\\\n",
    "   .setSeed(seed)\\\n",
    "   .setRegParam(0.1)\\\n",
    "    .setUserCol('CustomerId')\\\n",
    "    .setItemCol('MovieId')\\\n",
    "    .setRatingCol('Rating')\\\n",
    "\n",
    "# Now let's compute an evaluation metric for our test dataset\n",
    "from pyspark.ml.evaluation import RegressionEvaluator\n",
    "\n",
    "# Create an RMSE evaluator using the label and predicted columns\n",
    "reg_eval = RegressionEvaluator(predictionCol=\"prediction\", labelCol=\"Rating\", metricName=\"rmse\")\n",
    "\n",
    "tolerance = 0.03\n",
    "ranks = [4, 8, 12]\n",
    "errors = [0, 0, 0]\n",
    "models = [0, 0, 0]\n",
    "err = 0\n",
    "min_error = float('inf')\n",
    "best_rank = -1\n",
    "for rank in ranks:\n",
    "  # Set the rank here:\n",
    "  als.rank\n",
    "  # Create the model with these parameters.\n",
    "  model = als.fit(training_df)\n",
    "  # Run the model to create a prediction. Predict against the validation_df.\n",
    "  predict_df = model.transform(test_ratings_df)\n",
    "    \n",
    "    \n",
    "  # Remove NaN values from prediction (due to SPARK-14489)\n",
    "  predicted_ratings_df = predict_df.filter(predict_df.prediction != float('nan'))\n",
    "\n",
    "  # Run the previously created RMSE evaluator, reg_eval, on the predicted_ratings_df DataFrame\n",
    "  error = reg_eval.evaluate(predicted_ratings_df)\n",
    "  errors[err] = error\n",
    "  models[err] = model\n",
    "  print('For rank %s the RMSE is %s' % (rank, error))\n",
    "  if error < min_error:\n",
    "    min_error = error\n",
    "    best_rank = err\n",
    "  err += 1\n",
    "\n",
    "als.setRank(ranks[best_rank])\n",
    "print('The best model was trained with rank %s' % ranks[best_rank])\n",
    "my_model = models[best_rank]"
   ]
  },
  {
   "cell_type": "markdown",
   "id": "a05543ed",
   "metadata": {},
   "source": [
    "### Testing the Model "
   ]
  },
  {
   "cell_type": "code",
   "execution_count": 25,
   "id": "3f282bee",
   "metadata": {},
   "outputs": [],
   "source": [
    "predictions_df=my_model.transform(test_ratings_df)"
   ]
  },
  {
   "cell_type": "code",
   "execution_count": 34,
   "id": "5384658c",
   "metadata": {},
   "outputs": [
    {
     "name": "stdout",
     "output_type": "stream",
     "text": [
      "+-------+----------+------+----------+\n",
      "|MovieId|CustomerId|Rating|prediction|\n",
      "+-------+----------+------+----------+\n",
      "|     28|   2358799|   3.0| 3.7091436|\n",
      "|    156|    973051|   5.0| 3.9311593|\n",
      "|    851|   1189060|   3.0| 3.5384197|\n",
      "|   1100|   2376892|   2.0| 2.3329113|\n",
      "|   1123|   1628484|   3.0|  3.362345|\n",
      "+-------+----------+------+----------+\n",
      "only showing top 5 rows\n",
      "\n"
     ]
    }
   ],
   "source": [
    "predictions_df.show(5)"
   ]
  },
  {
   "cell_type": "code",
   "execution_count": 225,
   "id": "15a317d5",
   "metadata": {},
   "outputs": [
    {
     "name": "stdout",
     "output_type": "stream",
     "text": [
      "The absolute mean error is:\n",
      "+------------------+\n",
      "|           average|\n",
      "+------------------+\n",
      "|0.6943449243463141|\n",
      "+------------------+\n",
      "\n"
     ]
    }
   ],
   "source": [
    "MSE=predictions_df.select(F.abs((F.col(\"Rating\") - F.col(\"prediction\"))).alias(\"MSE\"))\n",
    "print('The absolute mean error is:')\n",
    "MSE.agg(F.avg(MSE.MSE).alias('average')).show()"
   ]
  },
  {
   "cell_type": "code",
   "execution_count": 32,
   "id": "4d3f10ab",
   "metadata": {},
   "outputs": [
    {
     "name": "stdout",
     "output_type": "stream",
     "text": [
      "The number of predictions before getting rid of nans: 100477\n",
      "The number of predictions after rid of nans: 100477\n"
     ]
    }
   ],
   "source": [
    "print('The number of predictions before getting rid of nans: {}'.format(predictions_df.count()))\n",
    "predictions_ratings_df=predictions_df.filter(predictions_df.prediction!= float('nan'))\n",
    "print('The number of predictions after rid of nans: {}'.format(predictions_df.count()))"
   ]
  },
  {
   "cell_type": "code",
   "execution_count": 37,
   "id": "cdbb383c",
   "metadata": {},
   "outputs": [
    {
     "name": "stderr",
     "output_type": "stream",
     "text": [
      "[Stage 612:==============================================>      (174 + 8) / 200]"
     ]
    },
    {
     "name": "stdout",
     "output_type": "stream",
     "text": [
      "The model has a RSME on the test dataset of: 0.8703085717830881\n"
     ]
    },
    {
     "name": "stderr",
     "output_type": "stream",
     "text": [
      "                                                                                \r"
     ]
    }
   ],
   "source": [
    "test_RSME=reg_eval.evaluate(predictions_ratings_df)\n",
    "print('The model has a RSME on the test dataset of:',test_RSME)"
   ]
  },
  {
   "cell_type": "markdown",
   "id": "2e82f086",
   "metadata": {},
   "source": [
    "### Comparing the Model"
   ]
  },
  {
   "cell_type": "markdown",
   "id": "9a2ffd8a",
   "metadata": {},
   "source": [
    "Comparing the model to if we had just used the average rating of all users across all movies. "
   ]
  },
  {
   "cell_type": "code",
   "execution_count": 50,
   "id": "6a6f1523",
   "metadata": {},
   "outputs": [
    {
     "name": "stderr",
     "output_type": "stream",
     "text": [
      "                                                                                \r"
     ]
    },
    {
     "name": "stdout",
     "output_type": "stream",
     "text": [
      "The average rating for all movies in the training set is: 3.4811883572616287\n",
      "+-------+----------+------+------------------+\n",
      "|MovieId|CustomerId|Rating|        prediction|\n",
      "+-------+----------+------+------------------+\n",
      "|      8|   2149668|   3.0|3.4811883572616287|\n",
      "|      8|   1089184|   3.0|3.4811883572616287|\n",
      "|      8|   2465894|   3.0|3.4811883572616287|\n",
      "|      8|    534508|   1.0|3.4811883572616287|\n",
      "|      8|    992921|   4.0|3.4811883572616287|\n",
      "+-------+----------+------+------------------+\n",
      "only showing top 5 rows\n",
      "\n",
      "Using the avg. rating of the training data as the prediction for the test data had an error of 1.0852531859495582\n",
      "So the model created was more accurate.\n"
     ]
    }
   ],
   "source": [
    "#getting the average rating\n",
    "\n",
    "avg_rating_df=ratings_df.agg(F.avg(ratings_df.Rating).alias('average'))\n",
    "avg_rating=avg_rating_df.collect()[0][0]\n",
    "print(\"The average rating for all movies in the training set is: {}\".format(avg_rating))\n",
    "test_w_avg_df=test_ratings_df.withColumn('prediction',F.lit(avg_rating))\n",
    "test_w_avg_df.show(5)\n",
    "\n",
    "#getting the RMSE\n",
    "test_avg_RSME=reg_eval.evaluate(test_w_avg_df)\n",
    "print('Using the avg. rating of the training data as the prediction for the test data had an error of {}'.format(test_avg_RSME))\n",
    "print(\"So the model created was more accurate.\")"
   ]
  },
  {
   "cell_type": "markdown",
   "id": "0d4f87f1",
   "metadata": {},
   "source": [
    "Now what about comparing to the average rating per movie? \n"
   ]
  },
  {
   "cell_type": "code",
   "execution_count": 65,
   "id": "84b4005c",
   "metadata": {},
   "outputs": [],
   "source": [
    "test_avg_movie_rating_df=test_ratings_df.join(movie_names_with_avg_rating_df, test_ratings_df.MovieId==movie_names_with_avg_rating_df.movieId)"
   ]
  },
  {
   "cell_type": "code",
   "execution_count": 73,
   "id": "0592294b",
   "metadata": {},
   "outputs": [],
   "source": [
    "test_avg_movie_rating_df=test_avg_movie_rating_df.drop('title','count')\n"
   ]
  },
  {
   "cell_type": "code",
   "execution_count": 79,
   "id": "5ce5c52f",
   "metadata": {},
   "outputs": [
    {
     "name": "stderr",
     "output_type": "stream",
     "text": [
      "                                                                                \r"
     ]
    },
    {
     "name": "stdout",
     "output_type": "stream",
     "text": [
      "+----------+------+-------+-----------------+\n",
      "|customerid|Rating|movieid|       prediction|\n",
      "+----------+------+-------+-----------------+\n",
      "|   2648176|   5.0|   3033|              4.5|\n",
      "|     70476|   4.0|  12293|4.464598134454594|\n",
      "|   2616318|   5.0|  12293|4.464598134454594|\n",
      "|   1434507|   4.0|  12293|4.464598134454594|\n",
      "|    945992|   5.0|  12293|4.464598134454594|\n",
      "|   2292257|   4.0|  12293|4.464598134454594|\n",
      "|   2087152|   5.0|  12293|4.464598134454594|\n",
      "|     44490|   4.0|  12293|4.464598134454594|\n",
      "|    938714|   4.0|  12293|4.464598134454594|\n",
      "|   2469788|   5.0|  12293|4.464598134454594|\n",
      "|    627801|   4.0|  12293|4.464598134454594|\n",
      "|   2401006|   5.0|  12293|4.464598134454594|\n",
      "|   2172649|   5.0|  12293|4.464598134454594|\n",
      "|   2304078|   5.0|  12293|4.464598134454594|\n",
      "|   2087448|   5.0|  12293|4.464598134454594|\n",
      "|   1211567|   5.0|  12293|4.464598134454594|\n",
      "|   1033224|   5.0|  12293|4.464598134454594|\n",
      "|    899799|   4.0|  12293|4.464598134454594|\n",
      "|   2207031|   5.0|  12293|4.464598134454594|\n",
      "|   2367301|   5.0|  12293|4.464598134454594|\n",
      "+----------+------+-------+-----------------+\n",
      "only showing top 20 rows\n",
      "\n"
     ]
    }
   ],
   "source": [
    "#getting rid of duplicate movieId columns\n",
    "df_cols = test_avg_movie_rating_df.columns\n",
    "df_cols=[x.lower() for x in df_cols]\n",
    "# get index of the duplicate columns\n",
    "duplicate_col_index = list(set([df_cols.index(c) for c in df_cols if df_cols.count(c) == 2]))\n",
    "\n",
    "for i in duplicate_col_index:\n",
    "    df_cols[i] = df_cols[i] + '_duplicated'\n",
    "\n",
    "test_avg_movie_rating_df = test_avg_movie_rating_df.toDF(*df_cols)\n",
    "cols_to_remove = [c for c in df_cols if '_duplicated' in c]\n",
    "\n",
    "#renaming average column to prediction \n",
    "test_avg_movie_rating_df=test_avg_movie_rating_df.withColumnRenamed('average','prediction')\n",
    "test_avg_movie_rating_df=test_avg_movie_rating_df.withColumnRenamed('rating','Rating')\n",
    "test_avg_movie_rating_df.drop(*cols_to_remove).show()"
   ]
  },
  {
   "cell_type": "code",
   "execution_count": 84,
   "id": "434e8a8e",
   "metadata": {},
   "outputs": [
    {
     "name": "stderr",
     "output_type": "stream",
     "text": [
      "                                                                                \r"
     ]
    },
    {
     "name": "stdout",
     "output_type": "stream",
     "text": [
      "The RSME when using a specific movie's average rating is: 1.0069899571932361\n"
     ]
    }
   ],
   "source": [
    "#now to get the RMSE of the average rating per movie: \n",
    "\n",
    "test_avg_movie_rating_df=test_avg_movie_rating_df.filter(test_avg_movie_rating_df.prediction!= float('nan'))\n",
    "avg_movie_rating_RSME=reg_eval.evaluate(test_avg_movie_rating_df)\n",
    "print(\"The RSME when using a specific movie's average rating is: {}\".format(avg_movie_rating_RSME))"
   ]
  },
  {
   "cell_type": "markdown",
   "id": "1b612a2e",
   "metadata": {},
   "source": [
    "Again, the model created using ALS was more accurate than this method as well. "
   ]
  },
  {
   "cell_type": "markdown",
   "id": "3ae32eb2",
   "metadata": {},
   "source": [
    "### Predicting My Own Ratings"
   ]
  },
  {
   "cell_type": "markdown",
   "id": "5d4220bb",
   "metadata": {},
   "source": [
    "Now I will be adding 10 of my own ratings to the training data."
   ]
  },
  {
   "cell_type": "code",
   "execution_count": 186,
   "id": "a4ca99c6",
   "metadata": {},
   "outputs": [
    {
     "name": "stdout",
     "output_type": "stream",
     "text": [
      "My movie ratings:\n",
      "+-------+----------+------+\n",
      "|MovieId|CustomerId|Rating|\n",
      "+-------+----------+------+\n",
      "|  14364|         0|     5|\n",
      "|  14953|         0|     4|\n",
      "|  15500|         0|     5|\n",
      "|   3364|         0|     4|\n",
      "|  17088|         0|     3|\n",
      "|  17324|         0|     4|\n",
      "|   5837|         0|     4|\n",
      "|   6287|         0|     4|\n",
      "|  11064|         0|     5|\n",
      "|   9875|         0|     1|\n",
      "+-------+----------+------+\n",
      "\n"
     ]
    }
   ],
   "source": [
    "from pyspark.sql import Row\n",
    "my_user_id=0\n",
    "\n",
    "my_rated_movies=[\n",
    "    (14364,0,5),\n",
    "    (14953,0,4),\n",
    "    (15500,0,5),\n",
    "    (3364,0,4),\n",
    "    (17088,0,3),\n",
    "    (17324,0,4),\n",
    "    (5837,0,4),\n",
    "    (6287,0,4),\n",
    "    (11064,0,5),\n",
    "    (9875,0,1)]\n",
    "\n",
    "my_ratings_df=sqlContext.createDataFrame(my_rated_movies,['MovieId','CustomerId','Rating'])\n",
    "print('My movie ratings:')\n",
    "my_ratings_df.show()"
   ]
  },
  {
   "cell_type": "code",
   "execution_count": 187,
   "id": "2cc399c2",
   "metadata": {},
   "outputs": [],
   "source": [
    "#adding my movies to the training dataset\n",
    "\n",
    "training_with_my_ratings_df=ratings_df.union(my_ratings_df)\n"
   ]
  },
  {
   "cell_type": "code",
   "execution_count": 188,
   "id": "7896dd52",
   "metadata": {},
   "outputs": [
    {
     "name": "stderr",
     "output_type": "stream",
     "text": [
      "                                                                                \r"
     ]
    },
    {
     "name": "stdout",
     "output_type": "stream",
     "text": [
      "+-------+----------+------+\n",
      "|MovieId|CustomerId|Rating|\n",
      "+-------+----------+------+\n",
      "|  14364|         0|   5.0|\n",
      "|  14953|         0|   4.0|\n",
      "|  15500|         0|   5.0|\n",
      "|   3364|         0|   4.0|\n",
      "|  17088|         0|   3.0|\n",
      "|  17324|         0|   4.0|\n",
      "|   5837|         0|   4.0|\n",
      "|   6287|         0|   4.0|\n",
      "|  11064|         0|   5.0|\n",
      "|   9875|         0|   1.0|\n",
      "+-------+----------+------+\n",
      "\n"
     ]
    },
    {
     "name": "stderr",
     "output_type": "stream",
     "text": [
      "                                                                                \r"
     ]
    }
   ],
   "source": [
    "training_with_my_ratings_df.filter(F.col('CustomerId')==0).show()"
   ]
  },
  {
   "cell_type": "markdown",
   "id": "0e97c8b0",
   "metadata": {},
   "source": [
    "#### Training the model again with my ratings as part of the training data"
   ]
  },
  {
   "cell_type": "code",
   "execution_count": 189,
   "id": "b4a1d968",
   "metadata": {},
   "outputs": [
    {
     "name": "stderr",
     "output_type": "stream",
     "text": [
      "                                                                                \r"
     ]
    }
   ],
   "source": [
    "als.setPredictionCol(\"prediction\")\\\n",
    "   .setMaxIter(5)\\\n",
    "   .setSeed(seed)\\\n",
    "    .setUserCol('CustomerId')\\\n",
    "    .setItemCol('MovieId')\\\n",
    "    .setRatingCol('Rating')\\\n",
    "\n",
    "my_ratings_model = als.fit(training_with_my_ratings_df)\n"
   ]
  },
  {
   "cell_type": "markdown",
   "id": "8c9498b6",
   "metadata": {},
   "source": [
    "#### Making predictions with the new model "
   ]
  },
  {
   "cell_type": "code",
   "execution_count": 190,
   "id": "2fe18fc3",
   "metadata": {},
   "outputs": [],
   "source": [
    "my_predictions_df=my_ratings_model.transform(test_ratings_df)"
   ]
  },
  {
   "cell_type": "code",
   "execution_count": 191,
   "id": "b6d3be74",
   "metadata": {},
   "outputs": [
    {
     "name": "stdout",
     "output_type": "stream",
     "text": [
      "+-------+----------+------+----------+\n",
      "|MovieId|CustomerId|Rating|prediction|\n",
      "+-------+----------+------+----------+\n",
      "|     28|   2358799|   3.0| 3.7327328|\n",
      "|    156|    973051|   5.0| 3.9911323|\n",
      "|    851|   1189060|   3.0| 3.6070168|\n",
      "|   1100|   2376892|   2.0| 2.3124597|\n",
      "|   1123|   1628484|   3.0| 3.3631506|\n",
      "|   1289|   1552084|   3.0| 3.3827796|\n",
      "|   1744|   2376892|   5.0| 3.6924365|\n",
      "|   1851|    675056|   4.0| 3.4010458|\n",
      "|   1983|   2376892|   4.0| 3.2269692|\n",
      "|   1983|   2629660|   3.0| 2.9360857|\n",
      "|   2290|   1909175|   5.0| 4.3345714|\n",
      "|   2658|   1552084|   5.0| 3.3752797|\n",
      "|   2675|   2629660|   3.0| 2.2776356|\n",
      "|   2808|    128389|   5.0|  3.421668|\n",
      "|   3290|   2088272|   4.0| 3.9819365|\n",
      "|   3355|   2311863|   4.0| 3.1503255|\n",
      "|   3538|    279120|   3.0| 3.1891806|\n",
      "|   3538|   1553158|   3.0| 3.0417595|\n",
      "|   3541|   1628484|   4.0| 3.4401903|\n",
      "|   3587|   2376892|   4.0|  3.443128|\n",
      "+-------+----------+------+----------+\n",
      "only showing top 20 rows\n",
      "\n"
     ]
    }
   ],
   "source": [
    "my_predictions_df.show()"
   ]
  },
  {
   "cell_type": "markdown",
   "id": "585c5a3d",
   "metadata": {},
   "source": [
    "#### Checking the RSME for new model with my ratings"
   ]
  },
  {
   "cell_type": "code",
   "execution_count": 192,
   "id": "237c3ee7",
   "metadata": {},
   "outputs": [
    {
     "name": "stderr",
     "output_type": "stream",
     "text": [
      "[Stage 2946:===================================>                (138 + 8) / 200]"
     ]
    },
    {
     "name": "stdout",
     "output_type": "stream",
     "text": [
      "The error of the model using my rankings is: 0.8708227066383376\n"
     ]
    },
    {
     "name": "stderr",
     "output_type": "stream",
     "text": [
      "                                                                                \r"
     ]
    }
   ],
   "source": [
    "test_RSME_my_ratings=reg_eval.evaluate(my_predictions_df)\n",
    "print('The error of the model using my rankings is: {}'.format(test_RSME_my_ratings))"
   ]
  },
  {
   "cell_type": "markdown",
   "id": "7dd06f41",
   "metadata": {},
   "source": [
    "#### Now I will filter out any of the movies that I already manually rated to get my top 25 recommendations"
   ]
  },
  {
   "cell_type": "code",
   "execution_count": 196,
   "id": "661f1a07",
   "metadata": {},
   "outputs": [],
   "source": [
    "my_rated_movie_ids = [x[0] for x in my_rated_movies]\n",
    "not_rated_df = movies_df.filter(~movies_df['ID'].isin(my_rated_movie_ids))\n",
    "my_unrated_movies_df = not_rated_df.withColumn('CustomerId',F.lit(0)).withColumnRenamed('ID','MovieId').drop('title','release_year').withColumn('Rating',F.lit(0))\n",
    "raw_predicted_ratings_df = my_ratings_model.transform(my_unrated_movies_df)\n",
    "my_predicted_ratings_df=raw_predicted_ratings_df.filter(raw_predicted_ratings_df.prediction != float('nan'))\n",
    "my_predicted_ratings_df=my_predicted_ratings_df.sort(F.col('prediction').desc())"
   ]
  },
  {
   "cell_type": "code",
   "execution_count": null,
   "id": "b22282f0",
   "metadata": {},
   "outputs": [],
   "source": []
  },
  {
   "cell_type": "code",
   "execution_count": 197,
   "id": "acc98da5",
   "metadata": {},
   "outputs": [
    {
     "name": "stdout",
     "output_type": "stream",
     "text": [
      "+----------+----------+-----+-----------------------------------------------------+\n",
      "|CustomerId|prediction|ID   |title                                                |\n",
      "+----------+----------+-----+-----------------------------------------------------+\n",
      "|0         |3.6182053 |14283|The Best of Friends: Vol. 3                          |\n",
      "|0         |3.6006413 |1256 |The Best of Friends: Vol. 4                          |\n",
      "|0         |3.508395  |15582|Sweet Home Alabama                                   |\n",
      "|0         |3.4511468 |12952|The God Who Wasn't There                             |\n",
      "|0         |3.3774464 |13887|The Princess Diaries 2: Royal Engagement             |\n",
      "|0         |3.3589683 |8692 |Shania Twain: Up Close and Personal                  |\n",
      "|0         |3.3533468 |1213 |VeggieTales: Madame Blueberry                        |\n",
      "|0         |3.3237321 |13651|Air Force One                                        |\n",
      "|0         |3.3049304 |9617 |Stepmom                                              |\n",
      "|0         |3.282851  |5327 |Guess Who                                            |\n",
      "|0         |3.277273  |10561|Ice Princess                                         |\n",
      "|0         |3.2766418 |2866 |Message in a Bottle                                  |\n",
      "|0         |3.258118  |14086|Dawson's Creek: Season 3                             |\n",
      "|0         |3.2489445 |5069 |Sleeping With the Enemy                              |\n",
      "|0         |3.2325304 |3638 |Bad Boys II                                          |\n",
      "|0         |3.217809  |16082|13 Going on 30                                       |\n",
      "|0         |3.2037413 |16784|The Sisterhood of the Traveling Pants                |\n",
      "|0         |3.2037137 |4432 |The Italian Job                                      |\n",
      "|0         |3.2007427 |2290 |Aladdin: Platinum Edition                            |\n",
      "|0         |3.197635  |1615 |The American President                               |\n",
      "|0         |3.1919882 |14648|Finding Nemo (Full-screen)                           |\n",
      "|0         |3.1830168 |12159|The Tuskegee Airmen: They Fought Two Wars            |\n",
      "|0         |3.182826  |10735|Meat Loaf: Live with the Melbourne Symphony Orchestra|\n",
      "|0         |3.1810544 |14407|The Last Castle                                      |\n",
      "|0         |3.1745145 |15929|Shining Through                                      |\n",
      "+----------+----------+-----+-----------------------------------------------------+\n",
      "only showing top 25 rows\n",
      "\n"
     ]
    }
   ],
   "source": [
    "my_predicted_ratings_df.join(movies_df,my_predicted_ratings_df.MovieId==movies_df.ID).drop('release_year','rating','MovieId').show(25,truncate=False)"
   ]
  },
  {
   "cell_type": "markdown",
   "id": "8a1998e4",
   "metadata": {},
   "source": [
    "These suggestions are pretty good. I've seen a decent amount of the titles it is recommending and I do like them. Most specifically 13 going on 30, Sweet Home Alabama, The Princess Diaries, etc. "
   ]
  },
  {
   "cell_type": "code",
   "execution_count": null,
   "id": "14a3dcef",
   "metadata": {},
   "outputs": [],
   "source": []
  },
  {
   "cell_type": "code",
   "execution_count": null,
   "id": "148d75d2",
   "metadata": {},
   "outputs": [],
   "source": []
  }
 ],
 "metadata": {
  "kernelspec": {
   "display_name": "Python 3 (ipykernel)",
   "language": "python",
   "name": "python3"
  },
  "language_info": {
   "codemirror_mode": {
    "name": "ipython",
    "version": 3
   },
   "file_extension": ".py",
   "mimetype": "text/x-python",
   "name": "python",
   "nbconvert_exporter": "python",
   "pygments_lexer": "ipython3",
   "version": "3.7.10"
  }
 },
 "nbformat": 4,
 "nbformat_minor": 5
}
